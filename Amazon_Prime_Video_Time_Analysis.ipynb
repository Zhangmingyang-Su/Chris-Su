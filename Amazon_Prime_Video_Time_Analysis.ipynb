{
  "nbformat": 4,
  "nbformat_minor": 0,
  "metadata": {
    "colab": {
      "name": "Amazon Prime Video Time Analysis.ipynb",
      "provenance": [],
      "collapsed_sections": [],
      "include_colab_link": true
    },
    "kernelspec": {
      "name": "python3",
      "display_name": "Python 3"
    }
  },
  "cells": [
    {
      "cell_type": "markdown",
      "metadata": {
        "id": "view-in-github",
        "colab_type": "text"
      },
      "source": [
        "<a href=\"https://colab.research.google.com/github/Zhangmingyang-Su/Data-Analysis-Projects/blob/master/Amazon_Prime_Video_Time_Analysis.ipynb\" target=\"_parent\"><img src=\"https://colab.research.google.com/assets/colab-badge.svg\" alt=\"Open In Colab\"/></a>"
      ]
    },
    {
      "cell_type": "markdown",
      "metadata": {
        "id": "3z7sF7gvxTke",
        "colab_type": "text"
      },
      "source": [
        "# Part 0 Load packages, load data\n"
      ]
    },
    {
      "cell_type": "code",
      "metadata": {
        "id": "AfZpbClJ8ljR",
        "colab_type": "code",
        "colab": {}
      },
      "source": [
        "#import neccessary libraries\n",
        "import numpy as np\n",
        "import pandas as pd\n",
        "import sklearn as sl\n",
        "from sklearn.preprocessing import StandardScaler\n",
        "from sklearn.model_selection import train_test_split\n",
        "import seaborn as sns\n",
        "import matplotlib.pyplot as plt\n",
        "pd.set_option('display.float_format', lambda x: '%.3f' % x)\n",
        "pd.set_option('display.max_columns',None)\n",
        "pd.set_option('display.max_rows',None)\n",
        "pd.set_option('max_colwidth',100)\n"
      ],
      "execution_count": 0,
      "outputs": []
    },
    {
      "cell_type": "code",
      "metadata": {
        "id": "dkksVl1cqw3W",
        "colab_type": "code",
        "colab": {}
      },
      "source": [
        "!pip install -U -q PyDrive\n",
        "\n",
        "from pydrive.auth import GoogleAuth\n",
        "from pydrive.drive import GoogleDrive\n",
        "from google.colab import auth\n",
        "from oauth2client.client import GoogleCredentials\n",
        "\n",
        "auth.authenticate_user()\n",
        "gauth = GoogleAuth()\n",
        "gauth.credentials = GoogleCredentials.get_application_default()\n",
        "drive = GoogleDrive(gauth)"
      ],
      "execution_count": 0,
      "outputs": []
    },
    {
      "cell_type": "code",
      "metadata": {
        "id": "gFvhL5sGLF7f",
        "colab_type": "code",
        "colab": {}
      },
      "source": [
        "link = 'https://drive.google.com/open?id=1-VwHP1WTZFrSkS4-6JE4Hk-fI58_Qeih'\n",
        "fluff, id = link.split('=')\n",
        "file = drive.CreateFile({'id':id}) \n",
        "file.GetContentFile('amazon prime.csv')"
      ],
      "execution_count": 0,
      "outputs": []
    },
    {
      "cell_type": "code",
      "metadata": {
        "id": "-wJBauQaI6QZ",
        "colab_type": "code",
        "colab": {
          "base_uri": "https://localhost:8080/",
          "height": 605
        },
        "outputId": "c240556d-aba0-421e-87c0-d2d06a7160e2"
      },
      "source": [
        "TV=pd.read_table('amazon prime.csv',header=0,sep=',',lineterminator='\\n')\n",
        "print(TV.head())"
      ],
      "execution_count": 4,
      "outputs": [
        {
          "output_type": "stream",
          "text": [
            "   video_id  cvt_per_day  weighted_categorical_position  \\\n",
            "0    385504   307127.606                              1   \n",
            "1    300175   270338.426                              1   \n",
            "2    361899   256165.867                              1   \n",
            "3    308314   196622.721                              3   \n",
            "4    307201   159841.652                              1   \n",
            "\n",
            "   weighted_horizontal_poition  import_id  release_year  \\\n",
            "0                            3  lionsgate          2013   \n",
            "1                            3  lionsgate          2013   \n",
            "2                            3      other          2012   \n",
            "3                            4  lionsgate          2008   \n",
            "4                            3  lionsgate          2013   \n",
            "\n",
            "                                          genres  imdb_votes    budget  \\\n",
            "0                          Action,Thriller,Drama       69614  15000000   \n",
            "1                          Comedy,Crime,Thriller       46705  15000000   \n",
            "2                                    Crime,Drama      197596  26000000   \n",
            "3  Thriller,Drama,War,Documentary,Mystery,Action      356339  15000000   \n",
            "4             Crime,Thriller,Mystery,Documentary       46720  27220000   \n",
            "\n",
            "   boxoffice  imdb_rating  duration_in_mins  metacritic_score       awards  \\\n",
            "0   42930462        6.500           112.301                51  other award   \n",
            "1    3301046        6.500            94.983                41     no award   \n",
            "2   37397291        7.300           115.764                58  other award   \n",
            "3   15700000        7.600           130.704                94        Oscar   \n",
            "4    8551228        6.400           105.546                37  other award   \n",
            "\n",
            "    mpaa  star_category  \n",
            "0  PG-13          1.710  \n",
            "1      R          3.250  \n",
            "2      R          2.647  \n",
            "3      R          1.667  \n",
            "4      R          3.067  \n"
          ],
          "name": "stdout"
        }
      ]
    },
    {
      "cell_type": "markdown",
      "metadata": {
        "id": "3ES81w8WA2Wk",
        "colab_type": "text"
      },
      "source": [
        "# Part 1: Data Exploration"
      ]
    },
    {
      "cell_type": "markdown",
      "metadata": {
        "id": "CDv2MT3gBO70",
        "colab_type": "text"
      },
      "source": [
        "## 1.1 Exclude erroneous data"
      ]
    },
    {
      "cell_type": "markdown",
      "metadata": {
        "id": "vDXp_OnZyRn6",
        "colab_type": "text"
      },
      "source": [
        "Each video should only appear once in the list, duplicated video will be removed."
      ]
    },
    {
      "cell_type": "code",
      "metadata": {
        "id": "oyum-AqDATd3",
        "colab_type": "code",
        "outputId": "d7ad550d-a1f5-4a5e-d331-95c6d6c63fde",
        "colab": {
          "base_uri": "https://localhost:8080/",
          "height": 35
        }
      },
      "source": [
        "if TV.set_index('video_id').index.duplicated().sum()==0:\n",
        "  print('no duplicated index')\n",
        "  "
      ],
      "execution_count": 5,
      "outputs": [
        {
          "output_type": "stream",
          "text": [
            "no duplicated index\n"
          ],
          "name": "stdout"
        }
      ]
    },
    {
      "cell_type": "markdown",
      "metadata": {
        "id": "v-N2W8E1ybr2",
        "colab_type": "text"
      },
      "source": [
        "## 1.2 Understand numerical features"
      ]
    },
    {
      "cell_type": "markdown",
      "metadata": {
        "id": "i6DmON1TyoYw",
        "colab_type": "text"
      },
      "source": [
        "### 1.2.1 Overview"
      ]
    },
    {
      "cell_type": "code",
      "metadata": {
        "id": "CJcon31EF26u",
        "colab_type": "code",
        "outputId": "f9ac08b5-4ae7-4556-fb74-4227a1f37679",
        "colab": {
          "base_uri": "https://localhost:8080/",
          "height": 1000
        }
      },
      "source": [
        "TV.info()\n",
        "print(TV.drop(columns=['video_id','release_year'],axis=1).describe(percentiles=[0.1,0.25,0.5,0.75,0.95]))\n",
        "(TV==0).sum(axis=0)/TV.shape[0]"
      ],
      "execution_count": 6,
      "outputs": [
        {
          "output_type": "stream",
          "text": [
            "<class 'pandas.core.frame.DataFrame'>\n",
            "RangeIndex: 4226 entries, 0 to 4225\n",
            "Data columns (total 16 columns):\n",
            "video_id                         4226 non-null int64\n",
            "cvt_per_day                      4226 non-null float64\n",
            "weighted_categorical_position    4226 non-null int64\n",
            "weighted_horizontal_poition      4226 non-null int64\n",
            "import_id                        4226 non-null object\n",
            "release_year                     4226 non-null int64\n",
            "genres                           4226 non-null object\n",
            "imdb_votes                       4226 non-null int64\n",
            "budget                           4226 non-null int64\n",
            "boxoffice                        4226 non-null int64\n",
            "imdb_rating                      4226 non-null float64\n",
            "duration_in_mins                 4226 non-null float64\n",
            "metacritic_score                 4226 non-null int64\n",
            "awards                           4226 non-null object\n",
            "mpaa                             4226 non-null object\n",
            "star_category                    4226 non-null float64\n",
            "dtypes: float64(4), int64(8), object(4)\n",
            "memory usage: 528.4+ KB\n",
            "       cvt_per_day  weighted_categorical_position  \\\n",
            "count     4226.000                       4226.000   \n",
            "mean      4218.630                          7.783   \n",
            "std      13036.080                          6.134   \n",
            "min          2.188                          1.000   \n",
            "10%        141.985                          3.000   \n",
            "25%        351.169                          4.000   \n",
            "50%       1193.500                          6.000   \n",
            "75%       3356.789                          9.000   \n",
            "95%      14692.834                         22.000   \n",
            "max     307127.606                         41.000   \n",
            "\n",
            "       weighted_horizontal_poition  imdb_votes        budget     boxoffice  \\\n",
            "count                     4226.000    4226.000      4226.000      4226.000   \n",
            "mean                        28.104    6462.924   2150743.439   2536338.472   \n",
            "std                         11.864   31596.007   7176604.483   8243516.266   \n",
            "min                          1.000       0.000         0.000         0.000   \n",
            "10%                         13.000       8.000         0.000         0.000   \n",
            "25%                         20.000      81.000         0.000         0.000   \n",
            "50%                         28.000     535.000         0.000         0.000   \n",
            "75%                         36.000    3053.000   1500000.000         0.000   \n",
            "95%                         48.000   26199.500  12000000.000   8551228.000   \n",
            "max                         70.000  948630.000 107000000.000 184208848.000   \n",
            "\n",
            "       imdb_rating  duration_in_mins  metacritic_score  star_category  \n",
            "count     4226.000          4226.000          4226.000       4226.000  \n",
            "mean         5.257            89.556            15.974          0.955  \n",
            "std          2.123            21.086            26.205          0.955  \n",
            "min          0.000             4.037             0.000          0.000  \n",
            "10%          2.300            62.391             0.000          0.000  \n",
            "25%          4.300            82.602             0.000          0.000  \n",
            "50%          5.800            90.730             0.000          1.000  \n",
            "75%          6.800            99.500            41.000          1.667  \n",
            "95%          7.800           119.131            65.000          2.597  \n",
            "max         10.000           246.017           100.000          4.000  \n"
          ],
          "name": "stdout"
        },
        {
          "output_type": "execute_result",
          "data": {
            "text/plain": [
              "video_id                        0.000\n",
              "cvt_per_day                     0.000\n",
              "weighted_categorical_position   0.000\n",
              "weighted_horizontal_poition     0.000\n",
              "import_id                       0.000\n",
              "release_year                    0.000\n",
              "genres                          0.000\n",
              "imdb_votes                      0.081\n",
              "budget                          0.581\n",
              "boxoffice                       0.756\n",
              "imdb_rating                     0.081\n",
              "duration_in_mins                0.000\n",
              "metacritic_score                0.713\n",
              "awards                          0.000\n",
              "mpaa                            0.000\n",
              "star_category                   0.437\n",
              "dtype: float64"
            ]
          },
          "metadata": {
            "tags": []
          },
          "execution_count": 6
        }
      ]
    },
    {
      "cell_type": "markdown",
      "metadata": {
        "id": "spQmT1ZHyjVe",
        "colab_type": "text"
      },
      "source": [
        "### 1.2.2 cvt_per_day feature"
      ]
    },
    {
      "cell_type": "code",
      "metadata": {
        "id": "e-BkewHWZEYa",
        "colab_type": "code",
        "outputId": "705fe227-4b66-4710-a7a5-84e6e0af9c4f",
        "colab": {
          "base_uri": "https://localhost:8080/",
          "height": 296
        }
      },
      "source": [
        "plt.hist(TV['cvt_per_day'],bins=range(0,15000,30),color='r',label='cvt_per_day',density=True,alpha=0.5)\n",
        "plt.title('Historgrams of cvt_per_day before data processing')\n",
        "plt.legend(loc='upper right')\n",
        "plt.xlabel('cvt_per_day')\n",
        "plt.ylabel('density')\n",
        "plt.show()"
      ],
      "execution_count": 11,
      "outputs": [
        {
          "output_type": "display_data",
          "data": {
            "image/png": "[encoded data removed]",
            "text/plain": [
              "<Figure size 432x288 with 1 Axes>"
            ]
          },
          "metadata": {
            "tags": []
          }
        }
      ]
    },
    {
      "cell_type": "markdown",
      "metadata": {
        "id": "my0LY0Wf0CGb",
        "colab_type": "text"
      },
      "source": [
        "### 1.2.3 Correlation among numerical features"
      ]
    },
    {
      "cell_type": "code",
      "metadata": {
        "id": "oSBeyIiGfLA8",
        "colab_type": "code",
        "outputId": "c9e2a8b9-4453-4926-e8f0-205491f78136",
        "colab": {
          "base_uri": "https://localhost:8080/",
          "height": 428
        }
      },
      "source": [
        "corr = TV[['cvt_per_day','weighted_categorical_position','weighted_horizontal_poition'\n",
        "               ,'release_year', 'imdb_votes', 'budget', 'boxoffice' ,'imdb_rating', \n",
        "               'duration_in_mins', 'metacritic_score', 'star_category']].corr()\n",
        "\n",
        "sns.heatmap(corr, cmap=\"YlGnBu\")"
      ],
      "execution_count": 13,
      "outputs": [
        {
          "output_type": "execute_result",
          "data": {
            "text/plain": [
              "<matplotlib.axes._subplots.AxesSubplot at 0x7ffa9ac81dd8>"
            ]
          },
          "metadata": {
            "tags": []
          },
          "execution_count": 13
        },
        {
          "output_type": "display_data",
          "data": {
            "image/png": "[encoded data removed]",
            "text/plain": [
              "<Figure size 432x288 with 2 Axes>"
            ]
          },
          "metadata": {
            "tags": []
          }
        }
      ]
    },
    {
      "cell_type": "code",
      "metadata": {
        "id": "zKOrme5yfSwc",
        "colab_type": "code",
        "outputId": "57acf060-22f1-4c2a-aa8c-adb2e4140330",
        "colab": {
          "base_uri": "https://localhost:8080/",
          "height": 398
        }
      },
      "source": [
        "corr"
      ],
      "execution_count": 15,
      "outputs": [
        {
          "output_type": "execute_result",
          "data": {
            "text/html": [
              "<div>\n",
              "<style scoped>\n",
              "    .dataframe tbody tr th:only-of-type {\n",
              "        vertical-align: middle;\n",
              "    }\n",
              "\n",
              "    .dataframe tbody tr th {\n",
              "        vertical-align: top;\n",
              "    }\n",
              "\n",
              "    .dataframe thead th {\n",
              "        text-align: right;\n",
              "    }\n",
              "</style>\n",
              "<table border=\"1\" class=\"dataframe\">\n",
              "  <thead>\n",
              "    <tr style=\"text-align: right;\">\n",
              "      <th></th>\n",
              "      <th>cvt_per_day</th>\n",
              "      <th>weighted_categorical_position</th>\n",
              "      <th>weighted_horizontal_poition</th>\n",
              "      <th>release_year</th>\n",
              "      <th>imdb_votes</th>\n",
              "      <th>budget</th>\n",
              "      <th>boxoffice</th>\n",
              "      <th>imdb_rating</th>\n",
              "      <th>duration_in_mins</th>\n",
              "      <th>metacritic_score</th>\n",
              "      <th>star_category</th>\n",
              "    </tr>\n",
              "  </thead>\n",
              "  <tbody>\n",
              "    <tr>\n",
              "      <th>cvt_per_day</th>\n",
              "      <td>1.000</td>\n",
              "      <td>-0.148</td>\n",
              "      <td>-0.302</td>\n",
              "      <td>0.046</td>\n",
              "      <td>0.298</td>\n",
              "      <td>0.316</td>\n",
              "      <td>0.312</td>\n",
              "      <td>0.059</td>\n",
              "      <td>0.152</td>\n",
              "      <td>0.249</td>\n",
              "      <td>0.247</td>\n",
              "    </tr>\n",
              "    <tr>\n",
              "      <th>weighted_categorical_position</th>\n",
              "      <td>-0.148</td>\n",
              "      <td>1.000</td>\n",
              "      <td>-0.084</td>\n",
              "      <td>-0.069</td>\n",
              "      <td>-0.064</td>\n",
              "      <td>-0.090</td>\n",
              "      <td>-0.074</td>\n",
              "      <td>-0.116</td>\n",
              "      <td>-0.174</td>\n",
              "      <td>-0.044</td>\n",
              "      <td>-0.123</td>\n",
              "    </tr>\n",
              "    <tr>\n",
              "      <th>weighted_horizontal_poition</th>\n",
              "      <td>-0.302</td>\n",
              "      <td>-0.084</td>\n",
              "      <td>1.000</td>\n",
              "      <td>0.027</td>\n",
              "      <td>-0.221</td>\n",
              "      <td>-0.211</td>\n",
              "      <td>-0.245</td>\n",
              "      <td>-0.162</td>\n",
              "      <td>-0.102</td>\n",
              "      <td>-0.255</td>\n",
              "      <td>-0.168</td>\n",
              "    </tr>\n",
              "    <tr>\n",
              "      <th>release_year</th>\n",
              "      <td>0.046</td>\n",
              "      <td>-0.069</td>\n",
              "      <td>0.027</td>\n",
              "      <td>1.000</td>\n",
              "      <td>-0.083</td>\n",
              "      <td>-0.040</td>\n",
              "      <td>-0.128</td>\n",
              "      <td>-0.199</td>\n",
              "      <td>-0.097</td>\n",
              "      <td>-0.167</td>\n",
              "      <td>-0.198</td>\n",
              "    </tr>\n",
              "    <tr>\n",
              "      <th>imdb_votes</th>\n",
              "      <td>0.298</td>\n",
              "      <td>-0.064</td>\n",
              "      <td>-0.221</td>\n",
              "      <td>-0.083</td>\n",
              "      <td>1.000</td>\n",
              "      <td>0.273</td>\n",
              "      <td>0.531</td>\n",
              "      <td>0.163</td>\n",
              "      <td>0.156</td>\n",
              "      <td>0.322</td>\n",
              "      <td>0.225</td>\n",
              "    </tr>\n",
              "    <tr>\n",
              "      <th>budget</th>\n",
              "      <td>0.316</td>\n",
              "      <td>-0.090</td>\n",
              "      <td>-0.211</td>\n",
              "      <td>-0.040</td>\n",
              "      <td>0.273</td>\n",
              "      <td>1.000</td>\n",
              "      <td>0.505</td>\n",
              "      <td>0.106</td>\n",
              "      <td>0.251</td>\n",
              "      <td>0.315</td>\n",
              "      <td>0.322</td>\n",
              "    </tr>\n",
              "    <tr>\n",
              "      <th>boxoffice</th>\n",
              "      <td>0.312</td>\n",
              "      <td>-0.074</td>\n",
              "      <td>-0.245</td>\n",
              "      <td>-0.128</td>\n",
              "      <td>0.531</td>\n",
              "      <td>0.505</td>\n",
              "      <td>1.000</td>\n",
              "      <td>0.164</td>\n",
              "      <td>0.226</td>\n",
              "      <td>0.465</td>\n",
              "      <td>0.322</td>\n",
              "    </tr>\n",
              "    <tr>\n",
              "      <th>imdb_rating</th>\n",
              "      <td>0.059</td>\n",
              "      <td>-0.116</td>\n",
              "      <td>-0.162</td>\n",
              "      <td>-0.199</td>\n",
              "      <td>0.163</td>\n",
              "      <td>0.106</td>\n",
              "      <td>0.164</td>\n",
              "      <td>1.000</td>\n",
              "      <td>0.344</td>\n",
              "      <td>0.347</td>\n",
              "      <td>0.192</td>\n",
              "    </tr>\n",
              "    <tr>\n",
              "      <th>duration_in_mins</th>\n",
              "      <td>0.152</td>\n",
              "      <td>-0.174</td>\n",
              "      <td>-0.102</td>\n",
              "      <td>-0.097</td>\n",
              "      <td>0.156</td>\n",
              "      <td>0.251</td>\n",
              "      <td>0.226</td>\n",
              "      <td>0.344</td>\n",
              "      <td>1.000</td>\n",
              "      <td>0.327</td>\n",
              "      <td>0.309</td>\n",
              "    </tr>\n",
              "    <tr>\n",
              "      <th>metacritic_score</th>\n",
              "      <td>0.249</td>\n",
              "      <td>-0.044</td>\n",
              "      <td>-0.255</td>\n",
              "      <td>-0.167</td>\n",
              "      <td>0.322</td>\n",
              "      <td>0.315</td>\n",
              "      <td>0.465</td>\n",
              "      <td>0.347</td>\n",
              "      <td>0.327</td>\n",
              "      <td>1.000</td>\n",
              "      <td>0.452</td>\n",
              "    </tr>\n",
              "    <tr>\n",
              "      <th>star_category</th>\n",
              "      <td>0.247</td>\n",
              "      <td>-0.123</td>\n",
              "      <td>-0.168</td>\n",
              "      <td>-0.198</td>\n",
              "      <td>0.225</td>\n",
              "      <td>0.322</td>\n",
              "      <td>0.322</td>\n",
              "      <td>0.192</td>\n",
              "      <td>0.309</td>\n",
              "      <td>0.452</td>\n",
              "      <td>1.000</td>\n",
              "    </tr>\n",
              "  </tbody>\n",
              "</table>\n",
              "</div>"
            ],
            "text/plain": [
              "                               cvt_per_day  weighted_categorical_position  \\\n",
              "cvt_per_day                          1.000                         -0.148   \n",
              "weighted_categorical_position       -0.148                          1.000   \n",
              "weighted_horizontal_poition         -0.302                         -0.084   \n",
              "release_year                         0.046                         -0.069   \n",
              "imdb_votes                           0.298                         -0.064   \n",
              "budget                               0.316                         -0.090   \n",
              "boxoffice                            0.312                         -0.074   \n",
              "imdb_rating                          0.059                         -0.116   \n",
              "duration_in_mins                     0.152                         -0.174   \n",
              "metacritic_score                     0.249                         -0.044   \n",
              "star_category                        0.247                         -0.123   \n",
              "\n",
              "                               weighted_horizontal_poition  release_year  \\\n",
              "cvt_per_day                                         -0.302         0.046   \n",
              "weighted_categorical_position                       -0.084        -0.069   \n",
              "weighted_horizontal_poition                          1.000         0.027   \n",
              "release_year                                         0.027         1.000   \n",
              "imdb_votes                                          -0.221        -0.083   \n",
              "budget                                              -0.211        -0.040   \n",
              "boxoffice                                           -0.245        -0.128   \n",
              "imdb_rating                                         -0.162        -0.199   \n",
              "duration_in_mins                                    -0.102        -0.097   \n",
              "metacritic_score                                    -0.255        -0.167   \n",
              "star_category                                       -0.168        -0.198   \n",
              "\n",
              "                               imdb_votes  budget  boxoffice  imdb_rating  \\\n",
              "cvt_per_day                         0.298   0.316      0.312        0.059   \n",
              "weighted_categorical_position      -0.064  -0.090     -0.074       -0.116   \n",
              "weighted_horizontal_poition        -0.221  -0.211     -0.245       -0.162   \n",
              "release_year                       -0.083  -0.040     -0.128       -0.199   \n",
              "imdb_votes                          1.000   0.273      0.531        0.163   \n",
              "budget                              0.273   1.000      0.505        0.106   \n",
              "boxoffice                           0.531   0.505      1.000        0.164   \n",
              "imdb_rating                         0.163   0.106      0.164        1.000   \n",
              "duration_in_mins                    0.156   0.251      0.226        0.344   \n",
              "metacritic_score                    0.322   0.315      0.465        0.347   \n",
              "star_category                       0.225   0.322      0.322        0.192   \n",
              "\n",
              "                               duration_in_mins  metacritic_score  \\\n",
              "cvt_per_day                               0.152             0.249   \n",
              "weighted_categorical_position            -0.174            -0.044   \n",
              "weighted_horizontal_poition              -0.102            -0.255   \n",
              "release_year                             -0.097            -0.167   \n",
              "imdb_votes                                0.156             0.322   \n",
              "budget                                    0.251             0.315   \n",
              "boxoffice                                 0.226             0.465   \n",
              "imdb_rating                               0.344             0.347   \n",
              "duration_in_mins                          1.000             0.327   \n",
              "metacritic_score                          0.327             1.000   \n",
              "star_category                             0.309             0.452   \n",
              "\n",
              "                               star_category  \n",
              "cvt_per_day                            0.247  \n",
              "weighted_categorical_position         -0.123  \n",
              "weighted_horizontal_poition           -0.168  \n",
              "release_year                          -0.198  \n",
              "imdb_votes                             0.225  \n",
              "budget                                 0.322  \n",
              "boxoffice                              0.322  \n",
              "imdb_rating                            0.192  \n",
              "duration_in_mins                       0.309  \n",
              "metacritic_score                       0.452  \n",
              "star_category                          1.000  "
            ]
          },
          "metadata": {
            "tags": []
          },
          "execution_count": 15
        }
      ]
    },
    {
      "cell_type": "markdown",
      "metadata": {
        "id": "fVUMUbzs0UrM",
        "colab_type": "text"
      },
      "source": [
        "## 1.3 Understand categorical features"
      ]
    },
    {
      "cell_type": "markdown",
      "metadata": {
        "id": "kFWDC_kmieQX",
        "colab_type": "text"
      },
      "source": [
        "### 1.3.1 Distribution of standard categorical features"
      ]
    },
    {
      "cell_type": "code",
      "metadata": {
        "id": "U5Q7QppFfW4P",
        "colab_type": "code",
        "outputId": "93de04b3-a434-4ae6-ef91-dbdce84ee47f",
        "colab": {
          "base_uri": "https://localhost:8080/",
          "height": 1000
        }
      },
      "source": [
        "sns.stripplot(x='import_id', y='cvt_per_day', data=TV,jitter=True)\n",
        "plt.show()\n",
        "print(TV['import_id'].value_counts())\n",
        "\n",
        "sns.stripplot(x='mpaa', y='cvt_per_day', data=TV,jitter=True)\n",
        "plt.show()\n",
        "print(TV['mpaa'].value_counts())\n",
        "\n",
        "sns.stripplot(x='awards', y='cvt_per_day', data=TV, jitter=True)\n",
        "plt.show()\n",
        "print(TV['awards'].value_counts())"
      ],
      "execution_count": 16,
      "outputs": [
        {
          "output_type": "display_data",
          "data": {
            "image/png": "[encoded data removed]",
            "text/plain": [
              "<Figure size 432x288 with 1 Axes>"
            ]
          },
          "metadata": {
            "tags": []
          }
        },
        {
          "output_type": "stream",
          "text": [
            "other        2963\n",
            "lionsgate     677\n",
            "mgm           445\n",
            "paramount     141\n",
            "Name: import_id, dtype: int64\n"
          ],
          "name": "stdout"
        },
        {
          "output_type": "display_data",
          "data": {
            "image/png": "[encoded data removed]",
            "text/plain": [
              "<Figure size 432x288 with 1 Axes>"
            ]
          },
          "metadata": {
            "tags": []
          }
        },
        {
          "output_type": "stream",
          "text": [
            "NotRated    2158\n",
            "R           1158\n",
            "PG-13        426\n",
            "PG           353\n",
            "G            125\n",
            "NC-17          6\n",
            "Name: mpaa, dtype: int64\n"
          ],
          "name": "stdout"
        },
        {
          "output_type": "display_data",
          "data": {
            "image/png": "[encoded data removed]",
            "text/plain": [
              "<Figure size 432x288 with 1 Axes>"
            ]
          },
          "metadata": {
            "tags": []
          }
        },
        {
          "output_type": "stream",
          "text": [
            "no award        2569\n",
            "other award     1453\n",
            "Oscar            141\n",
            "Golden Globe      44\n",
            "BAFTA             19\n",
            "Name: awards, dtype: int64\n"
          ],
          "name": "stdout"
        }
      ]
    },
    {
      "cell_type": "markdown",
      "metadata": {
        "id": "fd1SnNRGDshS",
        "colab_type": "text"
      },
      "source": [
        "After very basic Exploratory Data Analysis, we have to do some data cleaning and data preprocessing.\n",
        "We need three steps to finish  this.\n",
        "First, we need to encode the categorical feature\n",
        "Second, we need to impute the missing value for both numeric and categorical feature\n",
        "Third, we need to scale out feature,which can be better for our models' performance"
      ]
    },
    {
      "cell_type": "markdown",
      "metadata": {
        "id": "4HU4Kd_l0lmt",
        "colab_type": "text"
      },
      "source": [
        "### 1.3.2 Distribution of splited genres"
      ]
    },
    {
      "cell_type": "markdown",
      "metadata": {
        "id": "6p0LW_6K0xpj",
        "colab_type": "text"
      },
      "source": [
        "Some videos belongs to more than 1 genre, the genre of each video is splited, this would help emphasize the effect of each individual genre."
      ]
    },
    {
      "cell_type": "code",
      "metadata": {
        "id": "I0RXWm-bhlpq",
        "colab_type": "code",
        "outputId": "9d1dae6c-9d83-42c6-e7c7-a7cbd6d8dfc9",
        "colab": {
          "base_uri": "https://localhost:8080/",
          "height": 861
        }
      },
      "source": [
        "# generes explore, split the genre of each video\n",
        "gen_split = TV['genres'].str.get_dummies(sep=',').sum()\n",
        "print(gen_split)\n",
        "\n",
        "gen_split.sort_values(ascending=False).plot.bar()"
      ],
      "execution_count": 16,
      "outputs": [
        {
          "output_type": "stream",
          "text": [
            "Action                    739\n",
            "Adult                       3\n",
            "Adventure                 363\n",
            "Animation                 129\n",
            "Anime                      11\n",
            "Comedy                   1184\n",
            "Crime                     437\n",
            "Documentary               671\n",
            "Drama                    1677\n",
            "Fantasy                   243\n",
            "Foreign/International      64\n",
            "Holiday                     1\n",
            "Horror                    762\n",
            "Independent               393\n",
            "Kids & Family             280\n",
            "LGBT                        2\n",
            "Lifestyle                   7\n",
            "Music                     171\n",
            "Musicals                   68\n",
            "Mystery                   375\n",
            "Reality                     9\n",
            "Romance                   591\n",
            "Sci-Fi                    363\n",
            "Sport                      77\n",
            "Thriller                  879\n",
            "War                       102\n",
            "Western                   102\n",
            "dtype: int64\n"
          ],
          "name": "stdout"
        },
        {
          "output_type": "execute_result",
          "data": {
            "text/plain": [
              "<matplotlib.axes._subplots.AxesSubplot at 0x7ffa99f18a20>"
            ]
          },
          "metadata": {
            "tags": []
          },
          "execution_count": 16
        },
        {
          "output_type": "display_data",
          "data": {
            "image/png": "[encoded data removed]",
            "text/plain": [
              "<Figure size 432x288 with 1 Axes>"
            ]
          },
          "metadata": {
            "tags": []
          }
        }
      ]
    },
    {
      "cell_type": "markdown",
      "metadata": {
        "id": "f4DpGwy900nG",
        "colab_type": "text"
      },
      "source": [
        "### 1.3.3 Distribution of release_year"
      ]
    },
    {
      "cell_type": "markdown",
      "metadata": {
        "id": "WtiAH_7m00tJ",
        "colab_type": "text"
      },
      "source": [
        "The release year of video varies through a wide range. Considering the popularity of a video usually decays over time, the release_year should be bucketed based on the release_year range."
      ]
    },
    {
      "cell_type": "code",
      "metadata": {
        "id": "2zC-7REjisJ1",
        "colab_type": "code",
        "outputId": "0316363f-e8e5-47db-e433-94d5b02caea2",
        "colab": {
          "base_uri": "https://localhost:8080/",
          "height": 296
        }
      },
      "source": [
        "plt.hist(TV['release_year'].values, bins = range(1910, 2017, 1), alpha = 0.5, color='b', label = 'release_year')\n",
        "plt.legend(loc ='upper left')\n",
        "plt.title('Historgrams of release_year before data processing')\n",
        "plt.xlabel('release_year')\n",
        "plt.ylabel('density')\n",
        "plt.show()\n"
      ],
      "execution_count": 19,
      "outputs": [
        {
          "output_type": "display_data",
          "data": {
            "image/png": "[encoded data removed]",
            "text/plain": [
              "<Figure size 432x288 with 1 Axes>"
            ]
          },
          "metadata": {
            "tags": []
          }
        }
      ]
    },
    {
      "cell_type": "markdown",
      "metadata": {
        "id": "-kAuJlbm1ydZ",
        "colab_type": "text"
      },
      "source": [
        "# Part 2: Feature Preprocessing"
      ]
    },
    {
      "cell_type": "markdown",
      "metadata": {
        "id": "wHqQu2rK12AH",
        "colab_type": "text"
      },
      "source": [
        "## 2.1 Categorical features"
      ]
    },
    {
      "cell_type": "markdown",
      "metadata": {
        "id": "VJZSa3w515W6",
        "colab_type": "text"
      },
      "source": [
        "There are 5 categorical features: import_id, mpaa, awards, genres, and release_year. There is no missing data in them. They can be converted into dummy/indicators.\n",
        "\n",
        "The first 3 have relatively small sub-types, they can be easily converted to dummies.\n",
        "\n",
        "The 'genres' have 27 different sub-types, 6 of them are rarely observed (refer to previous section). It's reasonable to group these 6 into 1. Note: a video may have more than one genre, in the feature preprocessing, all genres are handled individually.\n",
        "\n",
        "The release_year is bined into 10 buckets based on the year range between 1917 and 2017."
      ]
    },
    {
      "cell_type": "code",
      "metadata": {
        "id": "NhEq5dXLkkIo",
        "colab_type": "code",
        "colab": {}
      },
      "source": [
        "# Convert 3 Categorical variables into dummy variables\n",
        "d_import_id = pd.get_dummies(TV['import_id']).astype(np.int64)\n",
        "d_mpaa = pd.get_dummies(TV['mpaa']).astype(np.int64)\n",
        "d_awards = pd.get_dummies(TV['awards']).astype(np.int64)"
      ],
      "execution_count": 0,
      "outputs": []
    },
    {
      "cell_type": "code",
      "metadata": {
        "id": "-gF0IhvL2Edh",
        "colab_type": "code",
        "colab": {}
      },
      "source": [
        "# Convert 'genres' into dummy variables\n",
        "d_genres=TV['genres'].str.get_dummies(sep=',').astype(np.int64)\n",
        "d_genres['Misc_genres']=d_genres['Anime']|d_genres['Reality']|d_genres['Lifestyle']|d_genres['Adult']|d_genres['LGBT']|d_genres['Holiday']\n",
        "d_genres.drop(['Anime', 'Reality','Lifestyle', 'Adult','LGBT','Holiday'], inplace=True, axis=1)"
      ],
      "execution_count": 0,
      "outputs": []
    },
    {
      "cell_type": "code",
      "metadata": {
        "id": "2stB_bL3n1Uv",
        "colab_type": "code",
        "colab": {}
      },
      "source": [
        "# bin release_year and convert into dummies\n",
        "bin_year = [1916, 1974, 1991, 2001, 2006, 2008, 2010, 2012, 2013, 2014,2017]\n",
        "year_range = ['1916-1974', '1974-1991', '1991-2001', '2001-2006','2006-2008','2008-2010','2010-2012','2012-2013',\n",
        "              '2013-2014','2014-2017']\n",
        "year_bin = pd.cut(TV['release_year'], bin_year, labels=year_range)\n",
        "d_year = pd.get_dummies(year_bin).astype(np.int64)"
      ],
      "execution_count": 0,
      "outputs": []
    },
    {
      "cell_type": "code",
      "metadata": {
        "id": "MjdlBN_roOZO",
        "colab_type": "code",
        "outputId": "88d79b33-5b45-4681-f3a0-b2664d2ecb09",
        "colab": {
          "base_uri": "https://localhost:8080/",
          "height": 1000
        }
      },
      "source": [
        "# new dataframe, drop the previous categorical features, add new dummy variables, check for null\n",
        "\n",
        "temp_tv=TV.drop(['import_id', 'mpaa','awards','genres', 'release_year'], axis=1)\n",
        "\n",
        "newTV = pd.concat([temp_tv, d_import_id, d_mpaa, d_awards, d_genres, d_year], axis=1)\n",
        "print(newTV.head())"
      ],
      "execution_count": 28,
      "outputs": [
        {
          "output_type": "stream",
          "text": [
            "   video_id  cvt_per_day  weighted_categorical_position  \\\n",
            "0    385504   307127.606                              1   \n",
            "1    300175   270338.426                              1   \n",
            "2    361899   256165.867                              1   \n",
            "3    308314   196622.721                              3   \n",
            "4    307201   159841.652                              1   \n",
            "\n",
            "   weighted_horizontal_poition  imdb_votes    budget  boxoffice  imdb_rating  \\\n",
            "0                            3       69614  15000000   42930462        6.500   \n",
            "1                            3       46705  15000000    3301046        6.500   \n",
            "2                            3      197596  26000000   37397291        7.300   \n",
            "3                            4      356339  15000000   15700000        7.600   \n",
            "4                            3       46720  27220000    8551228        6.400   \n",
            "\n",
            "   duration_in_mins  metacritic_score  star_category  lionsgate  mgm  other  \\\n",
            "0           112.301                51          1.710          1    0      0   \n",
            "1            94.983                41          3.250          1    0      0   \n",
            "2           115.764                58          2.647          0    0      1   \n",
            "3           130.704                94          1.667          1    0      0   \n",
            "4           105.546                37          3.067          1    0      0   \n",
            "\n",
            "   paramount  G  NC-17  NotRated  PG  PG-13  R  BAFTA  Golden Globe  Oscar  \\\n",
            "0          0  0      0         0   0      1  0      0             0      0   \n",
            "1          0  0      0         0   0      0  1      0             0      0   \n",
            "2          0  0      0         0   0      0  1      0             0      0   \n",
            "3          0  0      0         0   0      0  1      0             0      1   \n",
            "4          0  0      0         0   0      0  1      0             0      0   \n",
            "\n",
            "   no award  other award  Action  Adventure  Animation  Comedy  Crime  \\\n",
            "0         0            1       1          0          0       0      0   \n",
            "1         1            0       0          0          0       1      1   \n",
            "2         0            1       0          0          0       0      1   \n",
            "3         0            0       1          0          0       0      0   \n",
            "4         0            1       0          0          0       0      1   \n",
            "\n",
            "   Documentary  Drama  Fantasy  Foreign/International  Horror  Independent  \\\n",
            "0            0      1        0                      0       0            0   \n",
            "1            0      0        0                      0       0            0   \n",
            "2            0      1        0                      0       0            0   \n",
            "3            1      1        0                      0       0            0   \n",
            "4            1      0        0                      0       0            0   \n",
            "\n",
            "   Kids & Family  Music  Musicals  Mystery  Romance  Sci-Fi  Sport  Thriller  \\\n",
            "0              0      0         0        0        0       0      0         1   \n",
            "1              0      0         0        0        0       0      0         1   \n",
            "2              0      0         0        0        0       0      0         0   \n",
            "3              0      0         0        1        0       0      0         1   \n",
            "4              0      0         0        1        0       0      0         1   \n",
            "\n",
            "   War  Western  Misc_genres  1916-1974  1974-1991  1991-2001  2001-2006  \\\n",
            "0    0        0            0          0          0          0          0   \n",
            "1    0        0            0          0          0          0          0   \n",
            "2    0        0            0          0          0          0          0   \n",
            "3    1        0            0          0          0          0          0   \n",
            "4    0        0            0          0          0          0          0   \n",
            "\n",
            "   2006-2008  2008-2010  2010-2012  2012-2013  2013-2014  2014-2017  \n",
            "0          0          0          0          1          0          0  \n",
            "1          0          0          0          1          0          0  \n",
            "2          0          0          1          0          0          0  \n",
            "3          1          0          0          0          0          0  \n",
            "4          0          0          0          1          0          0  \n"
          ],
          "name": "stdout"
        }
      ]
    },
    {
      "cell_type": "markdown",
      "metadata": {
        "id": "N76z14XL2f2n",
        "colab_type": "text"
      },
      "source": [
        "## 2.2 Missing data"
      ]
    },
    {
      "cell_type": "markdown",
      "metadata": {
        "id": "Z5nrzz8i2kgs",
        "colab_type": "text"
      },
      "source": [
        "Among the 10 numerical features (not include video_id), 4 features have over 25% of missing values (shown as '0', which is not possible in reality): budget, boxoffice, metacritic_score, star_category. 2 features have less than 10% of missing data: imdb_votes, imdb_rating.\n",
        "\n",
        "There are 3242 samples have at least one missing data."
      ]
    },
    {
      "cell_type": "markdown",
      "metadata": {
        "id": "yEsN836gC4Zw",
        "colab_type": "text"
      },
      "source": [
        "Right Now we have to deal with the missing data. According to the data info, there is no Null value in our dataset.\n",
        "That's good, but we have to be catious, cause zero value can be a very good candidate for missing data. \n",
        "So we have the check the ratio of zero value in our numeric feature"
      ]
    },
    {
      "cell_type": "code",
      "metadata": {
        "id": "WxdTKOiMDdD5",
        "colab_type": "code",
        "outputId": "5a83c5ee-da74-4d77-eec3-687fb5ac9289",
        "colab": {
          "base_uri": "https://localhost:8080/",
          "height": 1000
        }
      },
      "source": [
        "newTV[['budget','boxoffice','metacritic_score', 'star_category','imdb_votes', 'imdb_rating']] = newTV[['budget','boxoffice','metacritic_score', 'star_category','imdb_votes', 'imdb_rating']].replace(0, np.nan)\n",
        "print(newTV.info())\n",
        "print(newTV.isnull().sum()/newTV.shape[0])\n"
      ],
      "execution_count": 29,
      "outputs": [
        {
          "output_type": "stream",
          "text": [
            "<class 'pandas.core.frame.DataFrame'>\n",
            "RangeIndex: 4226 entries, 0 to 4225\n",
            "Data columns (total 58 columns):\n",
            "video_id                         4226 non-null int64\n",
            "cvt_per_day                      4226 non-null float64\n",
            "weighted_categorical_position    4226 non-null int64\n",
            "weighted_horizontal_poition      4226 non-null int64\n",
            "imdb_votes                       3882 non-null float64\n",
            "budget                           1772 non-null float64\n",
            "boxoffice                        1032 non-null float64\n",
            "imdb_rating                      3882 non-null float64\n",
            "duration_in_mins                 4226 non-null float64\n",
            "metacritic_score                 1214 non-null float64\n",
            "star_category                    2380 non-null float64\n",
            "lionsgate                        4226 non-null int64\n",
            "mgm                              4226 non-null int64\n",
            "other                            4226 non-null int64\n",
            "paramount                        4226 non-null int64\n",
            "G                                4226 non-null int64\n",
            "NC-17                            4226 non-null int64\n",
            "NotRated                         4226 non-null int64\n",
            "PG                               4226 non-null int64\n",
            "PG-13                            4226 non-null int64\n",
            "R                                4226 non-null int64\n",
            "BAFTA                            4226 non-null int64\n",
            "Golden Globe                     4226 non-null int64\n",
            "Oscar                            4226 non-null int64\n",
            "no award                         4226 non-null int64\n",
            "other award                      4226 non-null int64\n",
            "Action                           4226 non-null int64\n",
            "Adventure                        4226 non-null int64\n",
            "Animation                        4226 non-null int64\n",
            "Comedy                           4226 non-null int64\n",
            "Crime                            4226 non-null int64\n",
            "Documentary                      4226 non-null int64\n",
            "Drama                            4226 non-null int64\n",
            "Fantasy                          4226 non-null int64\n",
            "Foreign/International            4226 non-null int64\n",
            "Horror                           4226 non-null int64\n",
            "Independent                      4226 non-null int64\n",
            "Kids & Family                    4226 non-null int64\n",
            "Music                            4226 non-null int64\n",
            "Musicals                         4226 non-null int64\n",
            "Mystery                          4226 non-null int64\n",
            "Romance                          4226 non-null int64\n",
            "Sci-Fi                           4226 non-null int64\n",
            "Sport                            4226 non-null int64\n",
            "Thriller                         4226 non-null int64\n",
            "War                              4226 non-null int64\n",
            "Western                          4226 non-null int64\n",
            "Misc_genres                      4226 non-null int64\n",
            "1916-1974                        4226 non-null int64\n",
            "1974-1991                        4226 non-null int64\n",
            "1991-2001                        4226 non-null int64\n",
            "2001-2006                        4226 non-null int64\n",
            "2006-2008                        4226 non-null int64\n",
            "2008-2010                        4226 non-null int64\n",
            "2010-2012                        4226 non-null int64\n",
            "2012-2013                        4226 non-null int64\n",
            "2013-2014                        4226 non-null int64\n",
            "2014-2017                        4226 non-null int64\n",
            "dtypes: float64(8), int64(50)\n",
            "memory usage: 1.9 MB\n",
            "None\n",
            "video_id                        0.000\n",
            "cvt_per_day                     0.000\n",
            "weighted_categorical_position   0.000\n",
            "weighted_horizontal_poition     0.000\n",
            "imdb_votes                      0.081\n",
            "budget                          0.581\n",
            "boxoffice                       0.756\n",
            "imdb_rating                     0.081\n",
            "duration_in_mins                0.000\n",
            "metacritic_score                0.713\n",
            "star_category                   0.437\n",
            "lionsgate                       0.000\n",
            "mgm                             0.000\n",
            "other                           0.000\n",
            "paramount                       0.000\n",
            "G                               0.000\n",
            "NC-17                           0.000\n",
            "NotRated                        0.000\n",
            "PG                              0.000\n",
            "PG-13                           0.000\n",
            "R                               0.000\n",
            "BAFTA                           0.000\n",
            "Golden Globe                    0.000\n",
            "Oscar                           0.000\n",
            "no award                        0.000\n",
            "other award                     0.000\n",
            "Action                          0.000\n",
            "Adventure                       0.000\n",
            "Animation                       0.000\n",
            "Comedy                          0.000\n",
            "Crime                           0.000\n",
            "Documentary                     0.000\n",
            "Drama                           0.000\n",
            "Fantasy                         0.000\n",
            "Foreign/International           0.000\n",
            "Horror                          0.000\n",
            "Independent                     0.000\n",
            "Kids & Family                   0.000\n",
            "Music                           0.000\n",
            "Musicals                        0.000\n",
            "Mystery                         0.000\n",
            "Romance                         0.000\n",
            "Sci-Fi                          0.000\n",
            "Sport                           0.000\n",
            "Thriller                        0.000\n",
            "War                             0.000\n",
            "Western                         0.000\n",
            "Misc_genres                     0.000\n",
            "1916-1974                       0.000\n",
            "1974-1991                       0.000\n",
            "1991-2001                       0.000\n",
            "2001-2006                       0.000\n",
            "2006-2008                       0.000\n",
            "2008-2010                       0.000\n",
            "2010-2012                       0.000\n",
            "2012-2013                       0.000\n",
            "2013-2014                       0.000\n",
            "2014-2017                       0.000\n",
            "dtype: float64\n"
          ],
          "name": "stdout"
        }
      ]
    },
    {
      "cell_type": "markdown",
      "metadata": {
        "id": "Q9BKknWx3k9l",
        "colab_type": "text"
      },
      "source": [
        "Filling missing data with mean value"
      ]
    },
    {
      "cell_type": "code",
      "metadata": {
        "id": "Jf8oxZlD3ap5",
        "colab_type": "code",
        "outputId": "f9047f0f-2884-4eb8-dab4-cf89e584f605",
        "colab": {
          "base_uri": "https://localhost:8080/",
          "height": 1000
        }
      },
      "source": [
        "newTV1=newTV.copy()\n",
        "newTV1['boxoffice']=newTV1['boxoffice'].fillna(newTV1['boxoffice'].mean())\n",
        "newTV1['metacritic_score']=newTV1['metacritic_score'].fillna(newTV1['metacritic_score'].mean())\n",
        "newTV1['star_category']=newTV1['star_category'].fillna(newTV1['star_category'].mean())\n",
        "newTV1['imdb_votes']=newTV1['imdb_votes'].fillna(newTV1['imdb_votes'].mean())\n",
        "newTV1['imdb_rating']=newTV1['imdb_rating'].fillna(newTV1['imdb_rating'].mean())\n",
        "newTV1['budget']=newTV1['budget'].fillna(newTV1['budget'].mean())\n",
        "print(newTV1.info())"
      ],
      "execution_count": 30,
      "outputs": [
        {
          "output_type": "stream",
          "text": [
            "<class 'pandas.core.frame.DataFrame'>\n",
            "RangeIndex: 4226 entries, 0 to 4225\n",
            "Data columns (total 58 columns):\n",
            "video_id                         4226 non-null int64\n",
            "cvt_per_day                      4226 non-null float64\n",
            "weighted_categorical_position    4226 non-null int64\n",
            "weighted_horizontal_poition      4226 non-null int64\n",
            "imdb_votes                       4226 non-null float64\n",
            "budget                           4226 non-null float64\n",
            "boxoffice                        4226 non-null float64\n",
            "imdb_rating                      4226 non-null float64\n",
            "duration_in_mins                 4226 non-null float64\n",
            "metacritic_score                 4226 non-null float64\n",
            "star_category                    4226 non-null float64\n",
            "lionsgate                        4226 non-null int64\n",
            "mgm                              4226 non-null int64\n",
            "other                            4226 non-null int64\n",
            "paramount                        4226 non-null int64\n",
            "G                                4226 non-null int64\n",
            "NC-17                            4226 non-null int64\n",
            "NotRated                         4226 non-null int64\n",
            "PG                               4226 non-null int64\n",
            "PG-13                            4226 non-null int64\n",
            "R                                4226 non-null int64\n",
            "BAFTA                            4226 non-null int64\n",
            "Golden Globe                     4226 non-null int64\n",
            "Oscar                            4226 non-null int64\n",
            "no award                         4226 non-null int64\n",
            "other award                      4226 non-null int64\n",
            "Action                           4226 non-null int64\n",
            "Adventure                        4226 non-null int64\n",
            "Animation                        4226 non-null int64\n",
            "Comedy                           4226 non-null int64\n",
            "Crime                            4226 non-null int64\n",
            "Documentary                      4226 non-null int64\n",
            "Drama                            4226 non-null int64\n",
            "Fantasy                          4226 non-null int64\n",
            "Foreign/International            4226 non-null int64\n",
            "Horror                           4226 non-null int64\n",
            "Independent                      4226 non-null int64\n",
            "Kids & Family                    4226 non-null int64\n",
            "Music                            4226 non-null int64\n",
            "Musicals                         4226 non-null int64\n",
            "Mystery                          4226 non-null int64\n",
            "Romance                          4226 non-null int64\n",
            "Sci-Fi                           4226 non-null int64\n",
            "Sport                            4226 non-null int64\n",
            "Thriller                         4226 non-null int64\n",
            "War                              4226 non-null int64\n",
            "Western                          4226 non-null int64\n",
            "Misc_genres                      4226 non-null int64\n",
            "1916-1974                        4226 non-null int64\n",
            "1974-1991                        4226 non-null int64\n",
            "1991-2001                        4226 non-null int64\n",
            "2001-2006                        4226 non-null int64\n",
            "2006-2008                        4226 non-null int64\n",
            "2008-2010                        4226 non-null int64\n",
            "2010-2012                        4226 non-null int64\n",
            "2012-2013                        4226 non-null int64\n",
            "2013-2014                        4226 non-null int64\n",
            "2014-2017                        4226 non-null int64\n",
            "dtypes: float64(8), int64(50)\n",
            "memory usage: 1.9 MB\n",
            "None\n"
          ],
          "name": "stdout"
        }
      ]
    },
    {
      "cell_type": "markdown",
      "metadata": {
        "id": "2DcCzUhrRrJh",
        "colab_type": "text"
      },
      "source": [
        "There are two most common used scaling method: normalization and standardscaler\n",
        "If there are no specific requirement for the range of output, we choose to use standardscaler"
      ]
    },
    {
      "cell_type": "markdown",
      "metadata": {
        "id": "XqN_tYv537ak",
        "colab_type": "text"
      },
      "source": [
        "## 2.3 Feature scaling"
      ]
    },
    {
      "cell_type": "markdown",
      "metadata": {
        "id": "Qbgz-PeU3-PK",
        "colab_type": "text"
      },
      "source": [
        "The impact of different scaling methods on the model performance is small. In the following model training and selections, the standard scaling (sc) data is used."
      ]
    },
    {
      "cell_type": "code",
      "metadata": {
        "id": "ukI1bTdTPuZK",
        "colab_type": "code",
        "outputId": "a5c352c9-a623-4f03-ab51-7bea82041a7d",
        "colab": {
          "base_uri": "https://localhost:8080/",
          "height": 235
        }
      },
      "source": [
        "#Standard scaling\n",
        "scale_lst = ['weighted_categorical_position', 'weighted_horizontal_poition', 'budget','boxoffice', \n",
        "             'imdb_votes','imdb_rating','duration_in_mins', 'metacritic_score','star_category']\n",
        "newTV_sc = newTV1.copy()\n",
        "\n",
        "sc_scale = StandardScaler().fit(newTV_sc[scale_lst])\n",
        "newTV_sc[scale_lst] = sc_scale.transform(newTV_sc[scale_lst])\n",
        "\n",
        "newTV_sc.head()\n"
      ],
      "execution_count": 33,
      "outputs": [
        {
          "output_type": "execute_result",
          "data": {
            "text/html": [
              "<div>\n",
              "<style scoped>\n",
              "    .dataframe tbody tr th:only-of-type {\n",
              "        vertical-align: middle;\n",
              "    }\n",
              "\n",
              "    .dataframe tbody tr th {\n",
              "        vertical-align: top;\n",
              "    }\n",
              "\n",
              "    .dataframe thead th {\n",
              "        text-align: right;\n",
              "    }\n",
              "</style>\n",
              "<table border=\"1\" class=\"dataframe\">\n",
              "  <thead>\n",
              "    <tr style=\"text-align: right;\">\n",
              "      <th></th>\n",
              "      <th>video_id</th>\n",
              "      <th>cvt_per_day</th>\n",
              "      <th>weighted_categorical_position</th>\n",
              "      <th>weighted_horizontal_poition</th>\n",
              "      <th>imdb_votes</th>\n",
              "      <th>budget</th>\n",
              "      <th>boxoffice</th>\n",
              "      <th>imdb_rating</th>\n",
              "      <th>duration_in_mins</th>\n",
              "      <th>metacritic_score</th>\n",
              "      <th>star_category</th>\n",
              "      <th>lionsgate</th>\n",
              "      <th>mgm</th>\n",
              "      <th>other</th>\n",
              "      <th>paramount</th>\n",
              "      <th>G</th>\n",
              "      <th>NC-17</th>\n",
              "      <th>NotRated</th>\n",
              "      <th>PG</th>\n",
              "      <th>PG-13</th>\n",
              "      <th>R</th>\n",
              "      <th>BAFTA</th>\n",
              "      <th>Golden Globe</th>\n",
              "      <th>Oscar</th>\n",
              "      <th>no award</th>\n",
              "      <th>other award</th>\n",
              "      <th>Action</th>\n",
              "      <th>Adventure</th>\n",
              "      <th>Animation</th>\n",
              "      <th>Comedy</th>\n",
              "      <th>Crime</th>\n",
              "      <th>Documentary</th>\n",
              "      <th>Drama</th>\n",
              "      <th>Fantasy</th>\n",
              "      <th>Foreign/International</th>\n",
              "      <th>Horror</th>\n",
              "      <th>Independent</th>\n",
              "      <th>Kids &amp; Family</th>\n",
              "      <th>Music</th>\n",
              "      <th>Musicals</th>\n",
              "      <th>Mystery</th>\n",
              "      <th>Romance</th>\n",
              "      <th>Sci-Fi</th>\n",
              "      <th>Sport</th>\n",
              "      <th>Thriller</th>\n",
              "      <th>War</th>\n",
              "      <th>Western</th>\n",
              "      <th>Misc_genres</th>\n",
              "      <th>1916-1974</th>\n",
              "      <th>1974-1991</th>\n",
              "      <th>1991-2001</th>\n",
              "      <th>2001-2006</th>\n",
              "      <th>2006-2008</th>\n",
              "      <th>2008-2010</th>\n",
              "      <th>2010-2012</th>\n",
              "      <th>2012-2013</th>\n",
              "      <th>2013-2014</th>\n",
              "      <th>2014-2017</th>\n",
              "    </tr>\n",
              "  </thead>\n",
              "  <tbody>\n",
              "    <tr>\n",
              "      <th>0</th>\n",
              "      <td>385504</td>\n",
              "      <td>307127.606</td>\n",
              "      <td>-1.106</td>\n",
              "      <td>-2.116</td>\n",
              "      <td>1.984</td>\n",
              "      <td>1.470</td>\n",
              "      <td>4.696</td>\n",
              "      <td>0.542</td>\n",
              "      <td>1.079</td>\n",
              "      <td>-0.630</td>\n",
              "      <td>0.033</td>\n",
              "      <td>1</td>\n",
              "      <td>0</td>\n",
              "      <td>0</td>\n",
              "      <td>0</td>\n",
              "      <td>0</td>\n",
              "      <td>0</td>\n",
              "      <td>0</td>\n",
              "      <td>0</td>\n",
              "      <td>1</td>\n",
              "      <td>0</td>\n",
              "      <td>0</td>\n",
              "      <td>0</td>\n",
              "      <td>0</td>\n",
              "      <td>0</td>\n",
              "      <td>1</td>\n",
              "      <td>1</td>\n",
              "      <td>0</td>\n",
              "      <td>0</td>\n",
              "      <td>0</td>\n",
              "      <td>0</td>\n",
              "      <td>0</td>\n",
              "      <td>1</td>\n",
              "      <td>0</td>\n",
              "      <td>0</td>\n",
              "      <td>0</td>\n",
              "      <td>0</td>\n",
              "      <td>0</td>\n",
              "      <td>0</td>\n",
              "      <td>0</td>\n",
              "      <td>0</td>\n",
              "      <td>0</td>\n",
              "      <td>0</td>\n",
              "      <td>0</td>\n",
              "      <td>1</td>\n",
              "      <td>0</td>\n",
              "      <td>0</td>\n",
              "      <td>0</td>\n",
              "      <td>0</td>\n",
              "      <td>0</td>\n",
              "      <td>0</td>\n",
              "      <td>0</td>\n",
              "      <td>0</td>\n",
              "      <td>0</td>\n",
              "      <td>0</td>\n",
              "      <td>1</td>\n",
              "      <td>0</td>\n",
              "      <td>0</td>\n",
              "    </tr>\n",
              "    <tr>\n",
              "      <th>1</th>\n",
              "      <td>300175</td>\n",
              "      <td>270338.426</td>\n",
              "      <td>-1.106</td>\n",
              "      <td>-2.116</td>\n",
              "      <td>1.258</td>\n",
              "      <td>1.470</td>\n",
              "      <td>-1.022</td>\n",
              "      <td>0.542</td>\n",
              "      <td>0.257</td>\n",
              "      <td>-1.997</td>\n",
              "      <td>3.434</td>\n",
              "      <td>1</td>\n",
              "      <td>0</td>\n",
              "      <td>0</td>\n",
              "      <td>0</td>\n",
              "      <td>0</td>\n",
              "      <td>0</td>\n",
              "      <td>0</td>\n",
              "      <td>0</td>\n",
              "      <td>0</td>\n",
              "      <td>1</td>\n",
              "      <td>0</td>\n",
              "      <td>0</td>\n",
              "      <td>0</td>\n",
              "      <td>1</td>\n",
              "      <td>0</td>\n",
              "      <td>0</td>\n",
              "      <td>0</td>\n",
              "      <td>0</td>\n",
              "      <td>1</td>\n",
              "      <td>1</td>\n",
              "      <td>0</td>\n",
              "      <td>0</td>\n",
              "      <td>0</td>\n",
              "      <td>0</td>\n",
              "      <td>0</td>\n",
              "      <td>0</td>\n",
              "      <td>0</td>\n",
              "      <td>0</td>\n",
              "      <td>0</td>\n",
              "      <td>0</td>\n",
              "      <td>0</td>\n",
              "      <td>0</td>\n",
              "      <td>0</td>\n",
              "      <td>1</td>\n",
              "      <td>0</td>\n",
              "      <td>0</td>\n",
              "      <td>0</td>\n",
              "      <td>0</td>\n",
              "      <td>0</td>\n",
              "      <td>0</td>\n",
              "      <td>0</td>\n",
              "      <td>0</td>\n",
              "      <td>0</td>\n",
              "      <td>0</td>\n",
              "      <td>1</td>\n",
              "      <td>0</td>\n",
              "      <td>0</td>\n",
              "    </tr>\n",
              "    <tr>\n",
              "      <th>2</th>\n",
              "      <td>361899</td>\n",
              "      <td>256165.867</td>\n",
              "      <td>-1.106</td>\n",
              "      <td>-2.116</td>\n",
              "      <td>6.043</td>\n",
              "      <td>3.108</td>\n",
              "      <td>3.898</td>\n",
              "      <td>1.100</td>\n",
              "      <td>1.243</td>\n",
              "      <td>0.327</td>\n",
              "      <td>2.102</td>\n",
              "      <td>0</td>\n",
              "      <td>0</td>\n",
              "      <td>1</td>\n",
              "      <td>0</td>\n",
              "      <td>0</td>\n",
              "      <td>0</td>\n",
              "      <td>0</td>\n",
              "      <td>0</td>\n",
              "      <td>0</td>\n",
              "      <td>1</td>\n",
              "      <td>0</td>\n",
              "      <td>0</td>\n",
              "      <td>0</td>\n",
              "      <td>0</td>\n",
              "      <td>1</td>\n",
              "      <td>0</td>\n",
              "      <td>0</td>\n",
              "      <td>0</td>\n",
              "      <td>0</td>\n",
              "      <td>1</td>\n",
              "      <td>0</td>\n",
              "      <td>1</td>\n",
              "      <td>0</td>\n",
              "      <td>0</td>\n",
              "      <td>0</td>\n",
              "      <td>0</td>\n",
              "      <td>0</td>\n",
              "      <td>0</td>\n",
              "      <td>0</td>\n",
              "      <td>0</td>\n",
              "      <td>0</td>\n",
              "      <td>0</td>\n",
              "      <td>0</td>\n",
              "      <td>0</td>\n",
              "      <td>0</td>\n",
              "      <td>0</td>\n",
              "      <td>0</td>\n",
              "      <td>0</td>\n",
              "      <td>0</td>\n",
              "      <td>0</td>\n",
              "      <td>0</td>\n",
              "      <td>0</td>\n",
              "      <td>0</td>\n",
              "      <td>1</td>\n",
              "      <td>0</td>\n",
              "      <td>0</td>\n",
              "      <td>0</td>\n",
              "    </tr>\n",
              "    <tr>\n",
              "      <th>3</th>\n",
              "      <td>308314</td>\n",
              "      <td>196622.721</td>\n",
              "      <td>-0.780</td>\n",
              "      <td>-2.032</td>\n",
              "      <td>11.077</td>\n",
              "      <td>1.470</td>\n",
              "      <td>0.767</td>\n",
              "      <td>1.309</td>\n",
              "      <td>1.952</td>\n",
              "      <td>5.250</td>\n",
              "      <td>-0.063</td>\n",
              "      <td>1</td>\n",
              "      <td>0</td>\n",
              "      <td>0</td>\n",
              "      <td>0</td>\n",
              "      <td>0</td>\n",
              "      <td>0</td>\n",
              "      <td>0</td>\n",
              "      <td>0</td>\n",
              "      <td>0</td>\n",
              "      <td>1</td>\n",
              "      <td>0</td>\n",
              "      <td>0</td>\n",
              "      <td>1</td>\n",
              "      <td>0</td>\n",
              "      <td>0</td>\n",
              "      <td>1</td>\n",
              "      <td>0</td>\n",
              "      <td>0</td>\n",
              "      <td>0</td>\n",
              "      <td>0</td>\n",
              "      <td>1</td>\n",
              "      <td>1</td>\n",
              "      <td>0</td>\n",
              "      <td>0</td>\n",
              "      <td>0</td>\n",
              "      <td>0</td>\n",
              "      <td>0</td>\n",
              "      <td>0</td>\n",
              "      <td>0</td>\n",
              "      <td>1</td>\n",
              "      <td>0</td>\n",
              "      <td>0</td>\n",
              "      <td>0</td>\n",
              "      <td>1</td>\n",
              "      <td>1</td>\n",
              "      <td>0</td>\n",
              "      <td>0</td>\n",
              "      <td>0</td>\n",
              "      <td>0</td>\n",
              "      <td>0</td>\n",
              "      <td>0</td>\n",
              "      <td>1</td>\n",
              "      <td>0</td>\n",
              "      <td>0</td>\n",
              "      <td>0</td>\n",
              "      <td>0</td>\n",
              "      <td>0</td>\n",
              "    </tr>\n",
              "    <tr>\n",
              "      <th>4</th>\n",
              "      <td>307201</td>\n",
              "      <td>159841.652</td>\n",
              "      <td>-1.106</td>\n",
              "      <td>-2.116</td>\n",
              "      <td>1.258</td>\n",
              "      <td>3.290</td>\n",
              "      <td>-0.265</td>\n",
              "      <td>0.472</td>\n",
              "      <td>0.758</td>\n",
              "      <td>-2.544</td>\n",
              "      <td>3.029</td>\n",
              "      <td>1</td>\n",
              "      <td>0</td>\n",
              "      <td>0</td>\n",
              "      <td>0</td>\n",
              "      <td>0</td>\n",
              "      <td>0</td>\n",
              "      <td>0</td>\n",
              "      <td>0</td>\n",
              "      <td>0</td>\n",
              "      <td>1</td>\n",
              "      <td>0</td>\n",
              "      <td>0</td>\n",
              "      <td>0</td>\n",
              "      <td>0</td>\n",
              "      <td>1</td>\n",
              "      <td>0</td>\n",
              "      <td>0</td>\n",
              "      <td>0</td>\n",
              "      <td>0</td>\n",
              "      <td>1</td>\n",
              "      <td>1</td>\n",
              "      <td>0</td>\n",
              "      <td>0</td>\n",
              "      <td>0</td>\n",
              "      <td>0</td>\n",
              "      <td>0</td>\n",
              "      <td>0</td>\n",
              "      <td>0</td>\n",
              "      <td>0</td>\n",
              "      <td>1</td>\n",
              "      <td>0</td>\n",
              "      <td>0</td>\n",
              "      <td>0</td>\n",
              "      <td>1</td>\n",
              "      <td>0</td>\n",
              "      <td>0</td>\n",
              "      <td>0</td>\n",
              "      <td>0</td>\n",
              "      <td>0</td>\n",
              "      <td>0</td>\n",
              "      <td>0</td>\n",
              "      <td>0</td>\n",
              "      <td>0</td>\n",
              "      <td>0</td>\n",
              "      <td>1</td>\n",
              "      <td>0</td>\n",
              "      <td>0</td>\n",
              "    </tr>\n",
              "  </tbody>\n",
              "</table>\n",
              "</div>"
            ],
            "text/plain": [
              "   video_id  cvt_per_day  weighted_categorical_position  \\\n",
              "0    385504   307127.606                         -1.106   \n",
              "1    300175   270338.426                         -1.106   \n",
              "2    361899   256165.867                         -1.106   \n",
              "3    308314   196622.721                         -0.780   \n",
              "4    307201   159841.652                         -1.106   \n",
              "\n",
              "   weighted_horizontal_poition  imdb_votes  budget  boxoffice  imdb_rating  \\\n",
              "0                       -2.116       1.984   1.470      4.696        0.542   \n",
              "1                       -2.116       1.258   1.470     -1.022        0.542   \n",
              "2                       -2.116       6.043   3.108      3.898        1.100   \n",
              "3                       -2.032      11.077   1.470      0.767        1.309   \n",
              "4                       -2.116       1.258   3.290     -0.265        0.472   \n",
              "\n",
              "   duration_in_mins  metacritic_score  star_category  lionsgate  mgm  other  \\\n",
              "0             1.079            -0.630          0.033          1    0      0   \n",
              "1             0.257            -1.997          3.434          1    0      0   \n",
              "2             1.243             0.327          2.102          0    0      1   \n",
              "3             1.952             5.250         -0.063          1    0      0   \n",
              "4             0.758            -2.544          3.029          1    0      0   \n",
              "\n",
              "   paramount  G  NC-17  NotRated  PG  PG-13  R  BAFTA  Golden Globe  Oscar  \\\n",
              "0          0  0      0         0   0      1  0      0             0      0   \n",
              "1          0  0      0         0   0      0  1      0             0      0   \n",
              "2          0  0      0         0   0      0  1      0             0      0   \n",
              "3          0  0      0         0   0      0  1      0             0      1   \n",
              "4          0  0      0         0   0      0  1      0             0      0   \n",
              "\n",
              "   no award  other award  Action  Adventure  Animation  Comedy  Crime  \\\n",
              "0         0            1       1          0          0       0      0   \n",
              "1         1            0       0          0          0       1      1   \n",
              "2         0            1       0          0          0       0      1   \n",
              "3         0            0       1          0          0       0      0   \n",
              "4         0            1       0          0          0       0      1   \n",
              "\n",
              "   Documentary  Drama  Fantasy  Foreign/International  Horror  Independent  \\\n",
              "0            0      1        0                      0       0            0   \n",
              "1            0      0        0                      0       0            0   \n",
              "2            0      1        0                      0       0            0   \n",
              "3            1      1        0                      0       0            0   \n",
              "4            1      0        0                      0       0            0   \n",
              "\n",
              "   Kids & Family  Music  Musicals  Mystery  Romance  Sci-Fi  Sport  Thriller  \\\n",
              "0              0      0         0        0        0       0      0         1   \n",
              "1              0      0         0        0        0       0      0         1   \n",
              "2              0      0         0        0        0       0      0         0   \n",
              "3              0      0         0        1        0       0      0         1   \n",
              "4              0      0         0        1        0       0      0         1   \n",
              "\n",
              "   War  Western  Misc_genres  1916-1974  1974-1991  1991-2001  2001-2006  \\\n",
              "0    0        0            0          0          0          0          0   \n",
              "1    0        0            0          0          0          0          0   \n",
              "2    0        0            0          0          0          0          0   \n",
              "3    1        0            0          0          0          0          0   \n",
              "4    0        0            0          0          0          0          0   \n",
              "\n",
              "   2006-2008  2008-2010  2010-2012  2012-2013  2013-2014  2014-2017  \n",
              "0          0          0          0          1          0          0  \n",
              "1          0          0          0          1          0          0  \n",
              "2          0          0          1          0          0          0  \n",
              "3          1          0          0          0          0          0  \n",
              "4          0          0          0          1          0          0  "
            ]
          },
          "metadata": {
            "tags": []
          },
          "execution_count": 33
        }
      ]
    },
    {
      "cell_type": "code",
      "metadata": {
        "id": "S33texeoWEbW",
        "colab_type": "code",
        "colab": {}
      },
      "source": [
        ""
      ],
      "execution_count": 0,
      "outputs": []
    },
    {
      "cell_type": "markdown",
      "metadata": {
        "id": "jVDrj0qG4KZp",
        "colab_type": "text"
      },
      "source": [
        ""
      ]
    },
    {
      "cell_type": "code",
      "metadata": {
        "id": "KlvOiEqz4LWH",
        "colab_type": "code",
        "colab": {
          "base_uri": "https://localhost:8080/",
          "height": 200
        },
        "outputId": "1fb77cd3-3d3c-4a37-f3c1-4d9d91af2457"
      },
      "source": [
        "# MinMax scaling\n",
        "newTV_mm = newTV_i1.copy()\n",
        "mm_scale = preprocessing.MinMaxScaler().fit(newTV_mm[scale_lst])\n",
        "newTV_mm[scale_lst] = mm_scale.transform(newTV_mm[scale_lst])"
      ],
      "execution_count": 34,
      "outputs": [
        {
          "output_type": "error",
          "ename": "NameError",
          "evalue": "ignored",
          "traceback": [
            "\u001b[0;31m---------------------------------------------------------------------------\u001b[0m",
            "\u001b[0;31mNameError\u001b[0m                                 Traceback (most recent call last)",
            "\u001b[0;32m<ipython-input-34-fa8398b2e205>\u001b[0m in \u001b[0;36m<module>\u001b[0;34m()\u001b[0m\n\u001b[0;32m----> 1\u001b[0;31m \u001b[0mnewTV_mm\u001b[0m \u001b[0;34m=\u001b[0m \u001b[0mnewTV_i1\u001b[0m\u001b[0;34m.\u001b[0m\u001b[0mcopy\u001b[0m\u001b[0;34m(\u001b[0m\u001b[0;34m)\u001b[0m\u001b[0;34m\u001b[0m\u001b[0;34m\u001b[0m\u001b[0m\n\u001b[0m\u001b[1;32m      2\u001b[0m \u001b[0mmm_scale\u001b[0m \u001b[0;34m=\u001b[0m \u001b[0mpreprocessing\u001b[0m\u001b[0;34m.\u001b[0m\u001b[0mMinMaxScaler\u001b[0m\u001b[0;34m(\u001b[0m\u001b[0;34m)\u001b[0m\u001b[0;34m.\u001b[0m\u001b[0mfit\u001b[0m\u001b[0;34m(\u001b[0m\u001b[0mnewTV_mm\u001b[0m\u001b[0;34m[\u001b[0m\u001b[0mscale_lst\u001b[0m\u001b[0;34m]\u001b[0m\u001b[0;34m)\u001b[0m\u001b[0;34m\u001b[0m\u001b[0;34m\u001b[0m\u001b[0m\n\u001b[1;32m      3\u001b[0m \u001b[0mnewTV_mm\u001b[0m\u001b[0;34m[\u001b[0m\u001b[0mscale_lst\u001b[0m\u001b[0;34m]\u001b[0m \u001b[0;34m=\u001b[0m \u001b[0mmm_scale\u001b[0m\u001b[0;34m.\u001b[0m\u001b[0mtransform\u001b[0m\u001b[0;34m(\u001b[0m\u001b[0mnewTV_mm\u001b[0m\u001b[0;34m[\u001b[0m\u001b[0mscale_lst\u001b[0m\u001b[0;34m]\u001b[0m\u001b[0;34m)\u001b[0m\u001b[0;34m\u001b[0m\u001b[0;34m\u001b[0m\u001b[0m\n",
            "\u001b[0;31mNameError\u001b[0m: name 'newTV_i1' is not defined"
          ]
        }
      ]
    },
    {
      "cell_type": "code",
      "metadata": {
        "id": "urBobvmf4Lvr",
        "colab_type": "code",
        "colab": {}
      },
      "source": [
        "# Robust scaling\n",
        "newTV_rs = newTV_i1.copy()\n",
        "rs_scale = preprocessing.RobustScaler().fit(newTV_mm[scale_lst])\n",
        "newTV_rs[scale_lst] = rs_scale.transform(newTV_rs[scale_lst])"
      ],
      "execution_count": 0,
      "outputs": []
    },
    {
      "cell_type": "markdown",
      "metadata": {
        "id": "TpuYM0uv4OnC",
        "colab_type": "text"
      },
      "source": [
        "# Part 3: Model Training"
      ]
    },
    {
      "cell_type": "code",
      "metadata": {
        "id": "Z0wDBXROSAe-",
        "colab_type": "code",
        "colab": {}
      },
      "source": [
        "model_train, model_test = train_test_split(newTV_sc, test_size=0.15, random_state = 3)\n",
        "model_train_x = model_train.drop(['video_id', 'cvt_per_day'], axis = 1)\n",
        "model_test_x = model_test.drop(['video_id', 'cvt_per_day'], axis = 1)\n",
        "model_train_y = model_train['cvt_per_day']\n",
        "model_test_y = model_test['cvt_per_day']"
      ],
      "execution_count": 0,
      "outputs": []
    },
    {
      "cell_type": "markdown",
      "metadata": {
        "id": "a715kJX94Ukb",
        "colab_type": "text"
      },
      "source": [
        "### 3.1 Lasso linear regression"
      ]
    },
    {
      "cell_type": "markdown",
      "metadata": {
        "id": "1ITKXqga4V8G",
        "colab_type": "text"
      },
      "source": [
        "3.1.1 Lasso linear regression"
      ]
    },
    {
      "cell_type": "code",
      "metadata": {
        "id": "jXNJRu0eYgiv",
        "colab_type": "code",
        "outputId": "f3c2b45a-1996-4fe4-ca9d-7c172cace24b",
        "colab": {
          "base_uri": "https://localhost:8080/",
          "height": 329
        }
      },
      "source": [
        "from sklearn.model_selection import train_test_split\n",
        "from sklearn.linear_model import LinearRegression, Lasso, Ridge\n",
        "from sklearn.metrics import mean_squared_error, r2_score\n",
        "from math import sqrt\n",
        "\n",
        "lr_train, lr_validate = train_test_split(model_train, test_size=0.15, random_state = 0)\n",
        "\n",
        "lr_train_x = lr_train.drop(['video_id', 'cvt_per_day'], axis = 1)\n",
        "lr_validate_x = lr_validate.drop(['video_id', 'cvt_per_day'], axis = 1)\n",
        "lr_train_y = lr_train['cvt_per_day']\n",
        "lr_validate_y = lr_validate['cvt_per_day']\n",
        "\n",
        "alphas = np.logspace (-0.3, 2.5, num=150)\n",
        "# alphas= [0.000000001]\n",
        "scores = np.empty_like(alphas)\n",
        "opt_a = float('-inf')\n",
        "max_score = float('-inf')\n",
        "for i, a in enumerate(alphas):\n",
        "    lasso = Lasso()\n",
        "    lasso.set_params(alpha = a)\n",
        "    lasso.fit(lr_train_x, lr_train_y)\n",
        "    scores[i] = lasso.score(lr_validate_x, lr_validate_y)\n",
        "    if scores[i] > max_score:\n",
        "        max_score = scores[i]\n",
        "        opt_a = a\n",
        "        lasso_save = lasso\n",
        "plt.plot(alphas, scores, color='b', linestyle='dashed', marker='o',markerfacecolor='blue', markersize=6)\n",
        "plt.xlabel('alpha')\n",
        "plt.ylabel('score')\n",
        "plt.grid(True)\n",
        "plt.title('score vs. alpha')\n",
        "plt.show()\n",
        "print ('The optimaized alpha and score of Lasso linear is: '), opt_a, max_score\n"
      ],
      "execution_count": 0,
      "outputs": [
        {
          "output_type": "display_data",
          "data": {
            "image/png": "[encoded data removed]",
            "text/plain": [
              "<Figure size 432x288 with 1 Axes>"
            ]
          },
          "metadata": {
            "tags": []
          }
        },
        {
          "output_type": "stream",
          "text": [
            "The optimaized alpha and score of Lasso linear is: \n"
          ],
          "name": "stdout"
        },
        {
          "output_type": "execute_result",
          "data": {
            "text/plain": [
              "(None, 107.20161850474553, 0.35440554960326276)"
            ]
          },
          "metadata": {
            "tags": []
          },
          "execution_count": 25
        }
      ]
    },
    {
      "cell_type": "code",
      "metadata": {
        "id": "w6o_T8LK6tp3",
        "colab_type": "code",
        "outputId": "a07dc578-8de9-4923-b31f-6cf2d0846849",
        "colab": {
          "base_uri": "https://localhost:8080/",
          "height": 68
        }
      },
      "source": [
        "# combine the validate data and training data, use the optimal alpha, re-train the model\n",
        "lasso_f = Lasso()\n",
        "lasso_f.set_params(alpha = opt_a)\n",
        "lasso_f.fit(model_train_x, model_train_y)\n"
      ],
      "execution_count": 0,
      "outputs": [
        {
          "output_type": "execute_result",
          "data": {
            "text/plain": [
              "Lasso(alpha=107.20161850474553, copy_X=True, fit_intercept=True, max_iter=1000,\n",
              "      normalize=False, positive=False, precompute=False, random_state=None,\n",
              "      selection='cyclic', tol=0.0001, warm_start=False)"
            ]
          },
          "metadata": {
            "tags": []
          },
          "execution_count": 28
        }
      ]
    },
    {
      "cell_type": "markdown",
      "metadata": {
        "id": "QMink4fx6bJv",
        "colab_type": "text"
      },
      "source": [
        "### 3.2 Lasso linear regression Polynomial-2"
      ]
    },
    {
      "cell_type": "code",
      "metadata": {
        "id": "wL3lwW7huqDb",
        "colab_type": "code",
        "outputId": "37b06f38-b47d-4b24-a177-fbd32c755ab4",
        "colab": {
          "base_uri": "https://localhost:8080/",
          "height": 1000
        }
      },
      "source": [
        "from sklearn.preprocessing import PolynomialFeatures\n",
        "\n",
        "poly = PolynomialFeatures(2)\n",
        "\n",
        "lr_train, lr_validate = train_test_split(model_train, test_size=0.15, random_state = 0)\n",
        "\n",
        "lr_train_x = lr_train.drop(['video_id', 'cvt_per_day'], axis = 1)\n",
        "lr_validate_x = lr_validate.drop(['video_id', 'cvt_per_day'], axis = 1)\n",
        "\n",
        "lr_train_xp = poly.fit_transform(lr_train_x)\n",
        "lr_validate_xp = poly.fit_transform(lr_validate_x)\n",
        "lr_train_y = lr_train['cvt_per_day']\n",
        "lr_validate_y = lr_validate['cvt_per_day']\n",
        "\n",
        "# lr_train_xp = pd.DataFrame(data=lr_train_xp, index=data[:], columns=data[0,1:]) \n",
        "\n",
        "alphas = np.logspace (-2.6, 2.5, num=80)\n",
        "# alphas= [1]\n",
        "scores = np.empty_like(alphas)\n",
        "opt_a = float('-inf')\n",
        "max_score = float('-inf')\n",
        "for i, a in enumerate(alphas):\n",
        "    lasso = Lasso()\n",
        "    lasso.set_params(alpha = a)\n",
        "    lasso.fit(lr_train_xp, lr_train_y)\n",
        "    scores[i] = lasso.score(lr_validate_xp, lr_validate_y)\n",
        "    if scores[i] > max_score:\n",
        "        max_score = scores[i]\n",
        "        opt_a = a\n",
        "        lasso_save = lasso\n",
        "        \n",
        "plt.plot(alphas, scores, color='b', linestyle='dashed', marker='o',markerfacecolor='blue', markersize=6)\n",
        "plt.xlabel('alpha')\n",
        "plt.ylabel('score')\n",
        "plt.grid(True)\n",
        "plt.title('score vs. alpha')\n",
        "plt.show()\n",
        "print ('The optimaized alpha and score of Lasso polynomial is: '), opt_a, max_score\n",
        "\n"
      ],
      "execution_count": 0,
      "outputs": [
        {
          "output_type": "stream",
          "text": [
            "/usr/local/lib/python3.6/dist-packages/sklearn/linear_model/_coordinate_descent.py:476: ConvergenceWarning: Objective did not converge. You might want to increase the number of iterations. Duality gap: 33511299074.619617, tolerance: 48022560.445868425\n",
            "  positive)\n",
            "/usr/local/lib/python3.6/dist-packages/sklearn/linear_model/_coordinate_descent.py:476: ConvergenceWarning: Objective did not converge. You might want to increase the number of iterations. Duality gap: 33519660034.652542, tolerance: 48022560.445868425\n",
            "  positive)\n",
            "/usr/local/lib/python3.6/dist-packages/sklearn/linear_model/_coordinate_descent.py:476: ConvergenceWarning: Objective did not converge. You might want to increase the number of iterations. Duality gap: 33529311849.39215, tolerance: 48022560.445868425\n",
            "  positive)\n",
            "/usr/local/lib/python3.6/dist-packages/sklearn/linear_model/_coordinate_descent.py:476: ConvergenceWarning: Objective did not converge. You might want to increase the number of iterations. Duality gap: 33540442556.223236, tolerance: 48022560.445868425\n",
            "  positive)\n",
            "/usr/local/lib/python3.6/dist-packages/sklearn/linear_model/_coordinate_descent.py:476: ConvergenceWarning: Objective did not converge. You might want to increase the number of iterations. Duality gap: 33553275477.43863, tolerance: 48022560.445868425\n",
            "  positive)\n",
            "/usr/local/lib/python3.6/dist-packages/sklearn/linear_model/_coordinate_descent.py:476: ConvergenceWarning: Objective did not converge. You might want to increase the number of iterations. Duality gap: 33568074277.40065, tolerance: 48022560.445868425\n",
            "  positive)\n",
            "/usr/local/lib/python3.6/dist-packages/sklearn/linear_model/_coordinate_descent.py:476: ConvergenceWarning: Objective did not converge. You might want to increase the number of iterations. Duality gap: 33585114200.39081, tolerance: 48022560.445868425\n",
            "  positive)\n",
            "/usr/local/lib/python3.6/dist-packages/sklearn/linear_model/_coordinate_descent.py:476: ConvergenceWarning: Objective did not converge. You might want to increase the number of iterations. Duality gap: 33604791007.94198, tolerance: 48022560.445868425\n",
            "  positive)\n",
            "/usr/local/lib/python3.6/dist-packages/sklearn/linear_model/_coordinate_descent.py:476: ConvergenceWarning: Objective did not converge. You might want to increase the number of iterations. Duality gap: 33627482037.487015, tolerance: 48022560.445868425\n",
            "  positive)\n",
            "/usr/local/lib/python3.6/dist-packages/sklearn/linear_model/_coordinate_descent.py:476: ConvergenceWarning: Objective did not converge. You might want to increase the number of iterations. Duality gap: 33653587255.767384, tolerance: 48022560.445868425\n",
            "  positive)\n",
            "/usr/local/lib/python3.6/dist-packages/sklearn/linear_model/_coordinate_descent.py:476: ConvergenceWarning: Objective did not converge. You might want to increase the number of iterations. Duality gap: 33683599337.40625, tolerance: 48022560.445868425\n",
            "  positive)\n",
            "/usr/local/lib/python3.6/dist-packages/sklearn/linear_model/_coordinate_descent.py:476: ConvergenceWarning: Objective did not converge. You might want to increase the number of iterations. Duality gap: 33718023971.00541, tolerance: 48022560.445868425\n",
            "  positive)\n",
            "/usr/local/lib/python3.6/dist-packages/sklearn/linear_model/_coordinate_descent.py:476: ConvergenceWarning: Objective did not converge. You might want to increase the number of iterations. Duality gap: 33757472968.23369, tolerance: 48022560.445868425\n",
            "  positive)\n",
            "/usr/local/lib/python3.6/dist-packages/sklearn/linear_model/_coordinate_descent.py:476: ConvergenceWarning: Objective did not converge. You might want to increase the number of iterations. Duality gap: 33802668608.069923, tolerance: 48022560.445868425\n",
            "  positive)\n",
            "/usr/local/lib/python3.6/dist-packages/sklearn/linear_model/_coordinate_descent.py:476: ConvergenceWarning: Objective did not converge. You might want to increase the number of iterations. Duality gap: 33854427475.981857, tolerance: 48022560.445868425\n",
            "  positive)\n",
            "/usr/local/lib/python3.6/dist-packages/sklearn/linear_model/_coordinate_descent.py:476: ConvergenceWarning: Objective did not converge. You might want to increase the number of iterations. Duality gap: 33913548579.65087, tolerance: 48022560.445868425\n",
            "  positive)\n",
            "/usr/local/lib/python3.6/dist-packages/sklearn/linear_model/_coordinate_descent.py:476: ConvergenceWarning: Objective did not converge. You might want to increase the number of iterations. Duality gap: 33981097819.81235, tolerance: 48022560.445868425\n",
            "  positive)\n",
            "/usr/local/lib/python3.6/dist-packages/sklearn/linear_model/_coordinate_descent.py:476: ConvergenceWarning: Objective did not converge. You might want to increase the number of iterations. Duality gap: 34057986718.349957, tolerance: 48022560.445868425\n",
            "  positive)\n",
            "/usr/local/lib/python3.6/dist-packages/sklearn/linear_model/_coordinate_descent.py:476: ConvergenceWarning: Objective did not converge. You might want to increase the number of iterations. Duality gap: 34145645699.434067, tolerance: 48022560.445868425\n",
            "  positive)\n",
            "/usr/local/lib/python3.6/dist-packages/sklearn/linear_model/_coordinate_descent.py:476: ConvergenceWarning: Objective did not converge. You might want to increase the number of iterations. Duality gap: 34244981146.307205, tolerance: 48022560.445868425\n",
            "  positive)\n",
            "/usr/local/lib/python3.6/dist-packages/sklearn/linear_model/_coordinate_descent.py:476: ConvergenceWarning: Objective did not converge. You might want to increase the number of iterations. Duality gap: 34357173319.97363, tolerance: 48022560.445868425\n",
            "  positive)\n",
            "/usr/local/lib/python3.6/dist-packages/sklearn/linear_model/_coordinate_descent.py:476: ConvergenceWarning: Objective did not converge. You might want to increase the number of iterations. Duality gap: 34483487772.03829, tolerance: 48022560.445868425\n",
            "  positive)\n",
            "/usr/local/lib/python3.6/dist-packages/sklearn/linear_model/_coordinate_descent.py:476: ConvergenceWarning: Objective did not converge. You might want to increase the number of iterations. Duality gap: 34625519713.16096, tolerance: 48022560.445868425\n",
            "  positive)\n",
            "/usr/local/lib/python3.6/dist-packages/sklearn/linear_model/_coordinate_descent.py:476: ConvergenceWarning: Objective did not converge. You might want to increase the number of iterations. Duality gap: 34785816279.286095, tolerance: 48022560.445868425\n",
            "  positive)\n",
            "/usr/local/lib/python3.6/dist-packages/sklearn/linear_model/_coordinate_descent.py:476: ConvergenceWarning: Objective did not converge. You might want to increase the number of iterations. Duality gap: 34962919248.796165, tolerance: 48022560.445868425\n",
            "  positive)\n",
            "/usr/local/lib/python3.6/dist-packages/sklearn/linear_model/_coordinate_descent.py:476: ConvergenceWarning: Objective did not converge. You might want to increase the number of iterations. Duality gap: 35161588747.79325, tolerance: 48022560.445868425\n",
            "  positive)\n",
            "/usr/local/lib/python3.6/dist-packages/sklearn/linear_model/_coordinate_descent.py:476: ConvergenceWarning: Objective did not converge. You might want to increase the number of iterations. Duality gap: 35384162681.601746, tolerance: 48022560.445868425\n",
            "  positive)\n",
            "/usr/local/lib/python3.6/dist-packages/sklearn/linear_model/_coordinate_descent.py:476: ConvergenceWarning: Objective did not converge. You might want to increase the number of iterations. Duality gap: 35632092534.00834, tolerance: 48022560.445868425\n",
            "  positive)\n",
            "/usr/local/lib/python3.6/dist-packages/sklearn/linear_model/_coordinate_descent.py:476: ConvergenceWarning: Objective did not converge. You might want to increase the number of iterations. Duality gap: 35910104350.8586, tolerance: 48022560.445868425\n",
            "  positive)\n",
            "/usr/local/lib/python3.6/dist-packages/sklearn/linear_model/_coordinate_descent.py:476: ConvergenceWarning: Objective did not converge. You might want to increase the number of iterations. Duality gap: 36211028631.58859, tolerance: 48022560.445868425\n",
            "  positive)\n",
            "/usr/local/lib/python3.6/dist-packages/sklearn/linear_model/_coordinate_descent.py:476: ConvergenceWarning: Objective did not converge. You might want to increase the number of iterations. Duality gap: 36549294572.66412, tolerance: 48022560.445868425\n",
            "  positive)\n",
            "/usr/local/lib/python3.6/dist-packages/sklearn/linear_model/_coordinate_descent.py:476: ConvergenceWarning: Objective did not converge. You might want to increase the number of iterations. Duality gap: 36919722261.600555, tolerance: 48022560.445868425\n",
            "  positive)\n",
            "/usr/local/lib/python3.6/dist-packages/sklearn/linear_model/_coordinate_descent.py:476: ConvergenceWarning: Objective did not converge. You might want to increase the number of iterations. Duality gap: 37327225750.90674, tolerance: 48022560.445868425\n",
            "  positive)\n",
            "/usr/local/lib/python3.6/dist-packages/sklearn/linear_model/_coordinate_descent.py:476: ConvergenceWarning: Objective did not converge. You might want to increase the number of iterations. Duality gap: 37761710599.37685, tolerance: 48022560.445868425\n",
            "  positive)\n",
            "/usr/local/lib/python3.6/dist-packages/sklearn/linear_model/_coordinate_descent.py:476: ConvergenceWarning: Objective did not converge. You might want to increase the number of iterations. Duality gap: 38248114555.609314, tolerance: 48022560.445868425\n",
            "  positive)\n",
            "/usr/local/lib/python3.6/dist-packages/sklearn/linear_model/_coordinate_descent.py:476: ConvergenceWarning: Objective did not converge. You might want to increase the number of iterations. Duality gap: 38759586969.98146, tolerance: 48022560.445868425\n",
            "  positive)\n",
            "/usr/local/lib/python3.6/dist-packages/sklearn/linear_model/_coordinate_descent.py:476: ConvergenceWarning: Objective did not converge. You might want to increase the number of iterations. Duality gap: 39264896702.124405, tolerance: 48022560.445868425\n",
            "  positive)\n",
            "/usr/local/lib/python3.6/dist-packages/sklearn/linear_model/_coordinate_descent.py:476: ConvergenceWarning: Objective did not converge. You might want to increase the number of iterations. Duality gap: 39729641722.34705, tolerance: 48022560.445868425\n",
            "  positive)\n",
            "/usr/local/lib/python3.6/dist-packages/sklearn/linear_model/_coordinate_descent.py:476: ConvergenceWarning: Objective did not converge. You might want to increase the number of iterations. Duality gap: 40129617107.48872, tolerance: 48022560.445868425\n",
            "  positive)\n",
            "/usr/local/lib/python3.6/dist-packages/sklearn/linear_model/_coordinate_descent.py:476: ConvergenceWarning: Objective did not converge. You might want to increase the number of iterations. Duality gap: 40654290317.588745, tolerance: 48022560.445868425\n",
            "  positive)\n",
            "/usr/local/lib/python3.6/dist-packages/sklearn/linear_model/_coordinate_descent.py:476: ConvergenceWarning: Objective did not converge. You might want to increase the number of iterations. Duality gap: 40937555122.2362, tolerance: 48022560.445868425\n",
            "  positive)\n",
            "/usr/local/lib/python3.6/dist-packages/sklearn/linear_model/_coordinate_descent.py:476: ConvergenceWarning: Objective did not converge. You might want to increase the number of iterations. Duality gap: 40386664755.95591, tolerance: 48022560.445868425\n",
            "  positive)\n",
            "/usr/local/lib/python3.6/dist-packages/sklearn/linear_model/_coordinate_descent.py:476: ConvergenceWarning: Objective did not converge. You might want to increase the number of iterations. Duality gap: 40760007414.49222, tolerance: 48022560.445868425\n",
            "  positive)\n",
            "/usr/local/lib/python3.6/dist-packages/sklearn/linear_model/_coordinate_descent.py:476: ConvergenceWarning: Objective did not converge. You might want to increase the number of iterations. Duality gap: 42685965285.731384, tolerance: 48022560.445868425\n",
            "  positive)\n",
            "/usr/local/lib/python3.6/dist-packages/sklearn/linear_model/_coordinate_descent.py:476: ConvergenceWarning: Objective did not converge. You might want to increase the number of iterations. Duality gap: 43280590907.54687, tolerance: 48022560.445868425\n",
            "  positive)\n",
            "/usr/local/lib/python3.6/dist-packages/sklearn/linear_model/_coordinate_descent.py:476: ConvergenceWarning: Objective did not converge. You might want to increase the number of iterations. Duality gap: 46650396509.22342, tolerance: 48022560.445868425\n",
            "  positive)\n",
            "/usr/local/lib/python3.6/dist-packages/sklearn/linear_model/_coordinate_descent.py:476: ConvergenceWarning: Objective did not converge. You might want to increase the number of iterations. Duality gap: 47610406765.55326, tolerance: 48022560.445868425\n",
            "  positive)\n",
            "/usr/local/lib/python3.6/dist-packages/sklearn/linear_model/_coordinate_descent.py:476: ConvergenceWarning: Objective did not converge. You might want to increase the number of iterations. Duality gap: 48387900888.67269, tolerance: 48022560.445868425\n",
            "  positive)\n",
            "/usr/local/lib/python3.6/dist-packages/sklearn/linear_model/_coordinate_descent.py:476: ConvergenceWarning: Objective did not converge. You might want to increase the number of iterations. Duality gap: 45331950458.28963, tolerance: 48022560.445868425\n",
            "  positive)\n",
            "/usr/local/lib/python3.6/dist-packages/sklearn/linear_model/_coordinate_descent.py:476: ConvergenceWarning: Objective did not converge. You might want to increase the number of iterations. Duality gap: 43408444555.491455, tolerance: 48022560.445868425\n",
            "  positive)\n",
            "/usr/local/lib/python3.6/dist-packages/sklearn/linear_model/_coordinate_descent.py:476: ConvergenceWarning: Objective did not converge. You might want to increase the number of iterations. Duality gap: 45445325481.00522, tolerance: 48022560.445868425\n",
            "  positive)\n",
            "/usr/local/lib/python3.6/dist-packages/sklearn/linear_model/_coordinate_descent.py:476: ConvergenceWarning: Objective did not converge. You might want to increase the number of iterations. Duality gap: 50192085595.15966, tolerance: 48022560.445868425\n",
            "  positive)\n",
            "/usr/local/lib/python3.6/dist-packages/sklearn/linear_model/_coordinate_descent.py:476: ConvergenceWarning: Objective did not converge. You might want to increase the number of iterations. Duality gap: 49745391733.74288, tolerance: 48022560.445868425\n",
            "  positive)\n",
            "/usr/local/lib/python3.6/dist-packages/sklearn/linear_model/_coordinate_descent.py:476: ConvergenceWarning: Objective did not converge. You might want to increase the number of iterations. Duality gap: 37275774220.68753, tolerance: 48022560.445868425\n",
            "  positive)\n",
            "/usr/local/lib/python3.6/dist-packages/sklearn/linear_model/_coordinate_descent.py:476: ConvergenceWarning: Objective did not converge. You might want to increase the number of iterations. Duality gap: 27453355315.756317, tolerance: 48022560.445868425\n",
            "  positive)\n",
            "/usr/local/lib/python3.6/dist-packages/sklearn/linear_model/_coordinate_descent.py:476: ConvergenceWarning: Objective did not converge. You might want to increase the number of iterations. Duality gap: 35783756220.8737, tolerance: 48022560.445868425\n",
            "  positive)\n",
            "/usr/local/lib/python3.6/dist-packages/sklearn/linear_model/_coordinate_descent.py:476: ConvergenceWarning: Objective did not converge. You might want to increase the number of iterations. Duality gap: 36178601916.54158, tolerance: 48022560.445868425\n",
            "  positive)\n",
            "/usr/local/lib/python3.6/dist-packages/sklearn/linear_model/_coordinate_descent.py:476: ConvergenceWarning: Objective did not converge. You might want to increase the number of iterations. Duality gap: 33771194665.684906, tolerance: 48022560.445868425\n",
            "  positive)\n",
            "/usr/local/lib/python3.6/dist-packages/sklearn/linear_model/_coordinate_descent.py:476: ConvergenceWarning: Objective did not converge. You might want to increase the number of iterations. Duality gap: 30192139827.60737, tolerance: 48022560.445868425\n",
            "  positive)\n",
            "/usr/local/lib/python3.6/dist-packages/sklearn/linear_model/_coordinate_descent.py:476: ConvergenceWarning: Objective did not converge. You might want to increase the number of iterations. Duality gap: 26479779178.293526, tolerance: 48022560.445868425\n",
            "  positive)\n",
            "/usr/local/lib/python3.6/dist-packages/sklearn/linear_model/_coordinate_descent.py:476: ConvergenceWarning: Objective did not converge. You might want to increase the number of iterations. Duality gap: 24604087626.461945, tolerance: 48022560.445868425\n",
            "  positive)\n",
            "/usr/local/lib/python3.6/dist-packages/sklearn/linear_model/_coordinate_descent.py:476: ConvergenceWarning: Objective did not converge. You might want to increase the number of iterations. Duality gap: 4408546377.572601, tolerance: 48022560.445868425\n",
            "  positive)\n",
            "/usr/local/lib/python3.6/dist-packages/sklearn/linear_model/_coordinate_descent.py:476: ConvergenceWarning: Objective did not converge. You might want to increase the number of iterations. Duality gap: 283767295.0001221, tolerance: 48022560.445868425\n",
            "  positive)\n",
            "/usr/local/lib/python3.6/dist-packages/sklearn/linear_model/_coordinate_descent.py:476: ConvergenceWarning: Objective did not converge. You might want to increase the number of iterations. Duality gap: 159563380.82855225, tolerance: 48022560.445868425\n",
            "  positive)\n",
            "/usr/local/lib/python3.6/dist-packages/sklearn/linear_model/_coordinate_descent.py:476: ConvergenceWarning: Objective did not converge. You might want to increase the number of iterations. Duality gap: 155620839.3088684, tolerance: 48022560.445868425\n",
            "  positive)\n",
            "/usr/local/lib/python3.6/dist-packages/sklearn/linear_model/_coordinate_descent.py:476: ConvergenceWarning: Objective did not converge. You might want to increase the number of iterations. Duality gap: 125049848.18081665, tolerance: 48022560.445868425\n",
            "  positive)\n",
            "/usr/local/lib/python3.6/dist-packages/sklearn/linear_model/_coordinate_descent.py:476: ConvergenceWarning: Objective did not converge. You might want to increase the number of iterations. Duality gap: 71171491.8036499, tolerance: 48022560.445868425\n",
            "  positive)\n"
          ],
          "name": "stderr"
        },
        {
          "output_type": "display_data",
          "data": {
            "image/png": "[encoded data removed]",
            "text/plain": [
              "<Figure size 432x288 with 1 Axes>"
            ]
          },
          "metadata": {
            "tags": []
          }
        },
        {
          "output_type": "stream",
          "text": [
            "The optimaized alpha and score of Lasso polynomial is: \n"
          ],
          "name": "stdout"
        },
        {
          "output_type": "execute_result",
          "data": {
            "text/plain": [
              "(None, 71.52047328767571, 0.5960567939749867)"
            ]
          },
          "metadata": {
            "tags": []
          },
          "execution_count": 30
        }
      ]
    },
    {
      "cell_type": "code",
      "metadata": {
        "id": "iXUFIpIq6zsL",
        "colab_type": "code",
        "outputId": "abbd6857-628e-42c0-b8fe-d6e6b6c718ef",
        "colab": {
          "base_uri": "https://localhost:8080/",
          "height": 68
        }
      },
      "source": [
        "# combine the validate data and training data, use the optimal alpha, re-train the model\n",
        "lr_train_xp1 = poly.fit_transform(model_train_x)\n",
        "\n",
        "lasso_fp = Lasso()\n",
        "lasso_fp.set_params(alpha = opt_a)\n",
        "lasso_fp.fit(lr_train_xp1, model_train_y)\n",
        "\n",
        "# lasso_fp is the Lasso model (polynomial feature), to be tested with test data."
      ],
      "execution_count": 0,
      "outputs": [
        {
          "output_type": "execute_result",
          "data": {
            "text/plain": [
              "Lasso(alpha=71.52047328767571, copy_X=True, fit_intercept=True, max_iter=1000,\n",
              "      normalize=False, positive=False, precompute=False, random_state=None,\n",
              "      selection='cyclic', tol=0.0001, warm_start=False)"
            ]
          },
          "metadata": {
            "tags": []
          },
          "execution_count": 31
        }
      ]
    },
    {
      "cell_type": "markdown",
      "metadata": {
        "id": "xwTJbv2oBvdm",
        "colab_type": "text"
      },
      "source": [
        "## 3.3 Ridge linear regression"
      ]
    },
    {
      "cell_type": "markdown",
      "metadata": {
        "id": "VTctyRrwB6TS",
        "colab_type": "text"
      },
      "source": [
        "1) All featuers are linear"
      ]
    },
    {
      "cell_type": "code",
      "metadata": {
        "id": "SbLyWw9U0ZO0",
        "colab_type": "code",
        "outputId": "9f67c5d3-8656-42f5-fb92-bb16c1a274a1",
        "colab": {
          "base_uri": "https://localhost:8080/",
          "height": 329
        }
      },
      "source": [
        "# Use the same training data set as Lasso (linear features)\n",
        "lr_train, lr_validate = train_test_split(model_train, test_size=0.15, random_state = 0)\n",
        "\n",
        "alphas = np.logspace (-10, 3, num=150)\n",
        "# alphas= [0.000000001]\n",
        "scores = np.empty_like(alphas)\n",
        "opt_a = float('-inf')\n",
        "max_score = float('-inf')\n",
        "for i, a in enumerate(alphas):\n",
        "    ridge = Ridge()\n",
        "    ridge.set_params(alpha = a)\n",
        "    ridge.fit(lr_train_x, lr_train_y)\n",
        "    scores[i] = ridge.score(lr_validate_x, lr_validate_y)\n",
        "    if scores[i] > max_score:\n",
        "        max_score = scores[i]\n",
        "        opt_a = a\n",
        "        ridge_save = ridge\n",
        "plt.plot(alphas, scores, color='r', linestyle='dashed', marker='o',markerfacecolor='r', markersize=6)\n",
        "plt.xlabel('alpha')\n",
        "plt.ylabel('score')\n",
        "plt.grid(True)\n",
        "plt.title('score vs. alpha')\n",
        "plt.show()\n",
        "print ('The optimaized alpha and score of Ridge linear is: '), opt_a, max_score"
      ],
      "execution_count": 0,
      "outputs": [
        {
          "output_type": "display_data",
          "data": {
            "image/png": "[encoded data removed]",
            "text/plain": [
              "<Figure size 432x288 with 1 Axes>"
            ]
          },
          "metadata": {
            "tags": []
          }
        },
        {
          "output_type": "stream",
          "text": [
            "The optimaized alpha and score of Ridge linear is: \n"
          ],
          "name": "stdout"
        },
        {
          "output_type": "execute_result",
          "data": {
            "text/plain": [
              "(None, 200.453398090524, 0.3434304876015476)"
            ]
          },
          "metadata": {
            "tags": []
          },
          "execution_count": 35
        }
      ]
    },
    {
      "cell_type": "code",
      "metadata": {
        "id": "XxEqMw4iE9XZ",
        "colab_type": "code",
        "outputId": "c427d2f2-80cc-4bfc-a22d-20549b2f4098",
        "colab": {
          "base_uri": "https://localhost:8080/",
          "height": 51
        }
      },
      "source": [
        "# add the 15% validate data, use the optimal alpha, re-train the model\n",
        "\n",
        "ridge_f = Ridge()\n",
        "ridge_f.set_params(alpha = opt_a)\n",
        "ridge_f.fit(model_train_x, model_train_y)\n",
        "\n",
        "# ridge_f is the Ridge model (linear feature), to be tested with test data."
      ],
      "execution_count": 0,
      "outputs": [
        {
          "output_type": "execute_result",
          "data": {
            "text/plain": [
              "Ridge(alpha=200.453398090524, copy_X=True, fit_intercept=True, max_iter=None,\n",
              "      normalize=False, random_state=None, solver='auto', tol=0.001)"
            ]
          },
          "metadata": {
            "tags": []
          },
          "execution_count": 37
        }
      ]
    },
    {
      "cell_type": "markdown",
      "metadata": {
        "id": "yIcaYwHFFGG6",
        "colab_type": "text"
      },
      "source": [
        "## 3.4 Ridge linear regression Polynomial-2\n",
        "\n",
        "1.   List item\n",
        "2.   List item\n",
        "\n"
      ]
    },
    {
      "cell_type": "code",
      "metadata": {
        "id": "ynL8NeJw1pKG",
        "colab_type": "code",
        "outputId": "0b8410f3-b538-4c2c-9a18-f0c54ceb23c6",
        "colab": {
          "base_uri": "https://localhost:8080/",
          "height": 329
        }
      },
      "source": [
        "# Use the same training data set as Lasso (polynomial features)\n",
        "from sklearn.preprocessing import PolynomialFeatures\n",
        "poly = PolynomialFeatures(2)\n",
        "\n",
        "lr_train, lr_validate = train_test_split(model_train, test_size=0.15, random_state = 0)\n",
        "\n",
        "lr_train_x = lr_train.drop(['video_id', 'cvt_per_day'], axis = 1)\n",
        "lr_validate_x = lr_validate.drop(['video_id', 'cvt_per_day'], axis = 1)\n",
        "lr_train_y = lr_train['cvt_per_day']\n",
        "lr_validate_y = lr_validate['cvt_per_day']\n",
        "\n",
        "lr_train_xp = poly.fit_transform(lr_train_x)\n",
        "lr_validate_xp = poly.fit_transform(lr_validate_x)\n",
        "\n",
        "alphas = np.logspace (-2, 2, num=20)\n",
        "# alphas= [1]\n",
        "scores = np.empty_like(alphas)\n",
        "opt_a = float('-inf')\n",
        "max_score = float('-inf')\n",
        "for i, a in enumerate(alphas):\n",
        "    ridge = Ridge()\n",
        "    ridge.set_params(alpha = a)\n",
        "    ridge.fit(lr_train_xp, lr_train_y)\n",
        "    scores[i] = ridge.score(lr_validate_xp, lr_validate_y)\n",
        "    if scores[i] > max_score:\n",
        "        max_score = scores[i]\n",
        "        opt_a = a\n",
        "        ridge_save = ridge\n",
        "        \n",
        "plt.plot(alphas, scores, color='brown', linestyle='dashed', marker='o',markerfacecolor='g', markersize=6)\n",
        "plt.xlabel('alpha')\n",
        "plt.ylabel('score')\n",
        "plt.grid(True)\n",
        "plt.title('score vs. alpha')\n",
        "plt.show()\n",
        "print ('The optimaized alpha and score of Ridge linear is: '), opt_a, max_score\n"
      ],
      "execution_count": 0,
      "outputs": [
        {
          "output_type": "display_data",
          "data": {
            "image/png": "[encoded data removed]",
            "text/plain": [
              "<Figure size 432x288 with 1 Axes>"
            ]
          },
          "metadata": {
            "tags": []
          }
        },
        {
          "output_type": "stream",
          "text": [
            "The optimaized alpha and score of Ridge linear is: \n"
          ],
          "name": "stdout"
        },
        {
          "output_type": "execute_result",
          "data": {
            "text/plain": [
              "(None, 14.38449888287663, 0.5503906764447627)"
            ]
          },
          "metadata": {
            "tags": []
          },
          "execution_count": 44
        }
      ]
    },
    {
      "cell_type": "markdown",
      "metadata": {
        "id": "T8k96l4UFhoy",
        "colab_type": "text"
      },
      "source": [
        "##3.5 Random Forest"
      ]
    },
    {
      "cell_type": "code",
      "metadata": {
        "id": "jpHVKREP5FmB",
        "colab_type": "code",
        "outputId": "d8971dcb-9fbb-4f75-c47d-b99fc982606c",
        "colab": {
          "base_uri": "https://localhost:8080/",
          "height": 360
        }
      },
      "source": [
        "from sklearn.ensemble import RandomForestRegressor\n",
        "from sklearn.model_selection import GridSearchCV\n",
        "rf=RandomForestRegressor(random_state=2,max_features='sqrt',n_jobs=-1)\n",
        "param_grid={'n_estimators':[55,56,57,58,59,60,61,62,63,64,65],'max_depth':[15,16,17,18,19,20,21]}\n",
        "clf=GridSearchCV(estimator=rf,param_grid=param_grid,cv=5,refit=True,n_jobs=-1,pre_dispatch='2*n_jobs')\n",
        "clf.fit(train_x,train_y)"
      ],
      "execution_count": 0,
      "outputs": [
        {
          "output_type": "execute_result",
          "data": {
            "text/plain": [
              "GridSearchCV(cv=5, error_score=nan,\n",
              "             estimator=RandomForestRegressor(bootstrap=True, ccp_alpha=0.0,\n",
              "                                             criterion='mse', max_depth=None,\n",
              "                                             max_features='sqrt',\n",
              "                                             max_leaf_nodes=None,\n",
              "                                             max_samples=None,\n",
              "                                             min_impurity_decrease=0.0,\n",
              "                                             min_impurity_split=None,\n",
              "                                             min_samples_leaf=1,\n",
              "                                             min_samples_split=2,\n",
              "                                             min_weight_fraction_leaf=0.0,\n",
              "                                             n_estimators=100, n_jobs=-1,\n",
              "                                             oob_score=False, random_state=2,\n",
              "                                             verbose=0, warm_start=False),\n",
              "             iid='deprecated', n_jobs=-1,\n",
              "             param_grid={'max_depth': [15, 16, 17, 18, 19, 20, 21],\n",
              "                         'n_estimators': [55, 56, 57, 58, 59, 60, 61, 62, 63,\n",
              "                                          64, 65]},\n",
              "             pre_dispatch='2*n_jobs', refit=True, return_train_score=False,\n",
              "             scoring=None, verbose=0)"
            ]
          },
          "metadata": {
            "tags": []
          },
          "execution_count": 40
        }
      ]
    },
    {
      "cell_type": "code",
      "metadata": {
        "id": "e6aNH8hemOZR",
        "colab_type": "code",
        "outputId": "c811a16f-ad6d-4e6b-c92c-eba720d6b7ba",
        "colab": {
          "base_uri": "https://localhost:8080/",
          "height": 1000
        }
      },
      "source": [
        "result=clf.cv_results_\n",
        "print(result)\n",
        "max_depth=[15,16,17,18,19,20,21]\n",
        "n_estimators=[55,56,57,58,59,60,61,62,63,64,65]\n",
        "scores=clf.cv_results_['mean_test_score'].reshape(len(max_depth),len(n_estimators))\n",
        "plt.figure(1)\n",
        "plt.subplot(1,1,1)\n",
        "for i,j in enumerate(max_depth):\n",
        "  plt.plot(n_estimators,scores[i],'-o',label='max_depths is: '+str(j))\n",
        "plt.legend(bbox_to_anchor=(1.05, 1), loc='upper left', borderaxespad=0.)\n",
        "plt.xlabel('mean_test_score')\n",
        "plt.ylabel('n_estimators')\n",
        "plt.show()\n",
        "print('the best parameter for max_depth is: '+str(clf.best_params_['max_depth']))\n",
        "print('the best parameter for n_estimators is: '+str(clf.best_params_['n_estimators']))\n",
        "\n"
      ],
      "execution_count": 0,
      "outputs": [
        {
          "output_type": "stream",
          "text": [
            "{'mean_fit_time': array([0.42133403, 0.44800544, 0.42832508, 0.43195114, 0.42746067,\n",
            "       0.45399394, 0.44919252, 0.43540907, 0.44622083, 0.4491643 ,\n",
            "       0.46188264, 0.40752339, 0.42752995, 0.43539348, 0.41539583,\n",
            "       0.43252892, 0.44477983, 0.41700974, 0.44479299, 0.45923905,\n",
            "       0.4606163 , 0.52045488, 0.44231114, 0.4323164 , 0.44378915,\n",
            "       0.42671409, 0.44425926, 0.42730341, 0.52903748, 0.5296783 ,\n",
            "       0.54834061, 0.54246402, 0.55006475, 0.48857503, 0.44784484,\n",
            "       0.4393177 , 0.45201564, 0.4583406 , 0.49427538, 0.53396597,\n",
            "       0.5307601 , 0.55452876, 0.50407391, 0.52090335, 0.44395061,\n",
            "       0.43364787, 0.44359727, 0.47742786, 0.46871667, 0.46708155,\n",
            "       0.50035014, 0.50920038, 0.53781772, 0.52468944, 0.5428472 ,\n",
            "       0.48298883, 0.52895432, 0.5243803 , 0.55011358, 0.56598916,\n",
            "       0.54085026, 0.63489575, 0.61165872, 0.62354984, 0.61309161,\n",
            "       0.65323176, 0.51954222, 0.54845138, 0.54573932, 0.61105313,\n",
            "       0.56341896, 0.54537053, 0.52257929, 0.54855018, 0.53773804,\n",
            "       0.55133228, 0.53434873]), 'std_fit_time': array([0.0398027 , 0.01623838, 0.03317958, 0.03668765, 0.03489757,\n",
            "       0.01458899, 0.0144681 , 0.03645849, 0.01545408, 0.01315277,\n",
            "       0.00515175, 0.04028397, 0.05258803, 0.0350057 , 0.05829412,\n",
            "       0.03954318, 0.0149305 , 0.05617706, 0.01441913, 0.00680276,\n",
            "       0.00526317, 0.04909284, 0.01006688, 0.03324841, 0.01102124,\n",
            "       0.04151081, 0.01378712, 0.03620743, 0.04248334, 0.035551  ,\n",
            "       0.0198268 , 0.03848686, 0.0165065 , 0.04667453, 0.01590117,\n",
            "       0.040077  , 0.01800445, 0.01019521, 0.04945759, 0.03281221,\n",
            "       0.02760343, 0.01604638, 0.06295745, 0.05142561, 0.01436624,\n",
            "       0.04446917, 0.01037828, 0.04175228, 0.01957608, 0.01321379,\n",
            "       0.05315482, 0.05573877, 0.04365249, 0.06681605, 0.03811782,\n",
            "       0.04482256, 0.03182925, 0.0364524 , 0.00213967, 0.0387544 ,\n",
            "       0.03952229, 0.02949313, 0.04349269, 0.0377339 , 0.04392826,\n",
            "       0.00715883, 0.0365489 , 0.00757003, 0.0159237 , 0.04454354,\n",
            "       0.05866991, 0.01382839, 0.0531661 , 0.01552388, 0.03924827,\n",
            "       0.01243052, 0.04049898]), 'mean_score_time': array([0.10829139, 0.10844388, 0.10751534, 0.10650663, 0.10777073,\n",
            "       0.1100172 , 0.10814786, 0.11077375, 0.11175466, 0.10715275,\n",
            "       0.10859513, 0.10990295, 0.11057634, 0.10969019, 0.10812602,\n",
            "       0.10976181, 0.10992112, 0.10909119, 0.1083571 , 0.11449323,\n",
            "       0.10800929, 0.10719566, 0.10982957, 0.1094007 , 0.10972681,\n",
            "       0.10852523, 0.1099    , 0.11328368, 0.10474386, 0.10470176,\n",
            "       0.10896158, 0.10610185, 0.10863113, 0.10493503, 0.11260667,\n",
            "       0.10795307, 0.11091175, 0.11209712, 0.10778203, 0.10683446,\n",
            "       0.10911551, 0.10619674, 0.11415911, 0.10908256, 0.10803409,\n",
            "       0.10911603, 0.11252117, 0.10644813, 0.11100368, 0.11457033,\n",
            "       0.11039591, 0.11071577, 0.11290402, 0.10924239, 0.11179662,\n",
            "       0.11037974, 0.10425591, 0.10602055, 0.10496588, 0.10531144,\n",
            "       0.10674686, 0.10578737, 0.10484061, 0.10418768, 0.10444074,\n",
            "       0.10425644, 0.10452342, 0.10809393, 0.10797586, 0.1067904 ,\n",
            "       0.1094451 , 0.11299276, 0.11406307, 0.11064506, 0.10994167,\n",
            "       0.11362448, 0.11221809]), 'std_score_time': array([0.00313127, 0.003409  , 0.00293289, 0.00200783, 0.00250014,\n",
            "       0.00402896, 0.00450495, 0.0051594 , 0.0046112 , 0.00183542,\n",
            "       0.00171586, 0.00506483, 0.00410933, 0.00268597, 0.0021123 ,\n",
            "       0.00429199, 0.00429912, 0.00319776, 0.00359119, 0.00240567,\n",
            "       0.00345188, 0.0035196 , 0.00521712, 0.00336926, 0.00662712,\n",
            "       0.00460247, 0.00341969, 0.00379469, 0.00082561, 0.00088575,\n",
            "       0.00403923, 0.00211666, 0.00243869, 0.000739  , 0.00286449,\n",
            "       0.00311844, 0.00312411, 0.00118353, 0.00368666, 0.00250469,\n",
            "       0.00448245, 0.00312124, 0.00544772, 0.00311435, 0.00248941,\n",
            "       0.00465979, 0.0045393 , 0.00251182, 0.00380189, 0.0052137 ,\n",
            "       0.00398117, 0.00232055, 0.00394807, 0.00316022, 0.00289471,\n",
            "       0.00571925, 0.00022108, 0.00247853, 0.00085076, 0.00136611,\n",
            "       0.00296912, 0.00295491, 0.00149894, 0.00025668, 0.00066974,\n",
            "       0.00013241, 0.000545  , 0.00461957, 0.00485462, 0.00314861,\n",
            "       0.006734  , 0.00467746, 0.00489292, 0.00416244, 0.0045334 ,\n",
            "       0.00447686, 0.00439022]), 'param_max_depth': masked_array(data=[15, 15, 15, 15, 15, 15, 15, 15, 15, 15, 15, 16, 16, 16,\n",
            "                   16, 16, 16, 16, 16, 16, 16, 16, 17, 17, 17, 17, 17, 17,\n",
            "                   17, 17, 17, 17, 17, 18, 18, 18, 18, 18, 18, 18, 18, 18,\n",
            "                   18, 18, 19, 19, 19, 19, 19, 19, 19, 19, 19, 19, 19, 20,\n",
            "                   20, 20, 20, 20, 20, 20, 20, 20, 20, 20, 21, 21, 21, 21,\n",
            "                   21, 21, 21, 21, 21, 21, 21],\n",
            "             mask=[False, False, False, False, False, False, False, False,\n",
            "                   False, False, False, False, False, False, False, False,\n",
            "                   False, False, False, False, False, False, False, False,\n",
            "                   False, False, False, False, False, False, False, False,\n",
            "                   False, False, False, False, False, False, False, False,\n",
            "                   False, False, False, False, False, False, False, False,\n",
            "                   False, False, False, False, False, False, False, False,\n",
            "                   False, False, False, False, False, False, False, False,\n",
            "                   False, False, False, False, False, False, False, False,\n",
            "                   False, False, False, False, False],\n",
            "       fill_value='?',\n",
            "            dtype=object), 'param_n_estimators': masked_array(data=[55, 56, 57, 58, 59, 60, 61, 62, 63, 64, 65, 55, 56, 57,\n",
            "                   58, 59, 60, 61, 62, 63, 64, 65, 55, 56, 57, 58, 59, 60,\n",
            "                   61, 62, 63, 64, 65, 55, 56, 57, 58, 59, 60, 61, 62, 63,\n",
            "                   64, 65, 55, 56, 57, 58, 59, 60, 61, 62, 63, 64, 65, 55,\n",
            "                   56, 57, 58, 59, 60, 61, 62, 63, 64, 65, 55, 56, 57, 58,\n",
            "                   59, 60, 61, 62, 63, 64, 65],\n",
            "             mask=[False, False, False, False, False, False, False, False,\n",
            "                   False, False, False, False, False, False, False, False,\n",
            "                   False, False, False, False, False, False, False, False,\n",
            "                   False, False, False, False, False, False, False, False,\n",
            "                   False, False, False, False, False, False, False, False,\n",
            "                   False, False, False, False, False, False, False, False,\n",
            "                   False, False, False, False, False, False, False, False,\n",
            "                   False, False, False, False, False, False, False, False,\n",
            "                   False, False, False, False, False, False, False, False,\n",
            "                   False, False, False, False, False],\n",
            "       fill_value='?',\n",
            "            dtype=object), 'params': [{'max_depth': 15, 'n_estimators': 55}, {'max_depth': 15, 'n_estimators': 56}, {'max_depth': 15, 'n_estimators': 57}, {'max_depth': 15, 'n_estimators': 58}, {'max_depth': 15, 'n_estimators': 59}, {'max_depth': 15, 'n_estimators': 60}, {'max_depth': 15, 'n_estimators': 61}, {'max_depth': 15, 'n_estimators': 62}, {'max_depth': 15, 'n_estimators': 63}, {'max_depth': 15, 'n_estimators': 64}, {'max_depth': 15, 'n_estimators': 65}, {'max_depth': 16, 'n_estimators': 55}, {'max_depth': 16, 'n_estimators': 56}, {'max_depth': 16, 'n_estimators': 57}, {'max_depth': 16, 'n_estimators': 58}, {'max_depth': 16, 'n_estimators': 59}, {'max_depth': 16, 'n_estimators': 60}, {'max_depth': 16, 'n_estimators': 61}, {'max_depth': 16, 'n_estimators': 62}, {'max_depth': 16, 'n_estimators': 63}, {'max_depth': 16, 'n_estimators': 64}, {'max_depth': 16, 'n_estimators': 65}, {'max_depth': 17, 'n_estimators': 55}, {'max_depth': 17, 'n_estimators': 56}, {'max_depth': 17, 'n_estimators': 57}, {'max_depth': 17, 'n_estimators': 58}, {'max_depth': 17, 'n_estimators': 59}, {'max_depth': 17, 'n_estimators': 60}, {'max_depth': 17, 'n_estimators': 61}, {'max_depth': 17, 'n_estimators': 62}, {'max_depth': 17, 'n_estimators': 63}, {'max_depth': 17, 'n_estimators': 64}, {'max_depth': 17, 'n_estimators': 65}, {'max_depth': 18, 'n_estimators': 55}, {'max_depth': 18, 'n_estimators': 56}, {'max_depth': 18, 'n_estimators': 57}, {'max_depth': 18, 'n_estimators': 58}, {'max_depth': 18, 'n_estimators': 59}, {'max_depth': 18, 'n_estimators': 60}, {'max_depth': 18, 'n_estimators': 61}, {'max_depth': 18, 'n_estimators': 62}, {'max_depth': 18, 'n_estimators': 63}, {'max_depth': 18, 'n_estimators': 64}, {'max_depth': 18, 'n_estimators': 65}, {'max_depth': 19, 'n_estimators': 55}, {'max_depth': 19, 'n_estimators': 56}, {'max_depth': 19, 'n_estimators': 57}, {'max_depth': 19, 'n_estimators': 58}, {'max_depth': 19, 'n_estimators': 59}, {'max_depth': 19, 'n_estimators': 60}, {'max_depth': 19, 'n_estimators': 61}, {'max_depth': 19, 'n_estimators': 62}, {'max_depth': 19, 'n_estimators': 63}, {'max_depth': 19, 'n_estimators': 64}, {'max_depth': 19, 'n_estimators': 65}, {'max_depth': 20, 'n_estimators': 55}, {'max_depth': 20, 'n_estimators': 56}, {'max_depth': 20, 'n_estimators': 57}, {'max_depth': 20, 'n_estimators': 58}, {'max_depth': 20, 'n_estimators': 59}, {'max_depth': 20, 'n_estimators': 60}, {'max_depth': 20, 'n_estimators': 61}, {'max_depth': 20, 'n_estimators': 62}, {'max_depth': 20, 'n_estimators': 63}, {'max_depth': 20, 'n_estimators': 64}, {'max_depth': 20, 'n_estimators': 65}, {'max_depth': 21, 'n_estimators': 55}, {'max_depth': 21, 'n_estimators': 56}, {'max_depth': 21, 'n_estimators': 57}, {'max_depth': 21, 'n_estimators': 58}, {'max_depth': 21, 'n_estimators': 59}, {'max_depth': 21, 'n_estimators': 60}, {'max_depth': 21, 'n_estimators': 61}, {'max_depth': 21, 'n_estimators': 62}, {'max_depth': 21, 'n_estimators': 63}, {'max_depth': 21, 'n_estimators': 64}, {'max_depth': 21, 'n_estimators': 65}], 'split0_test_score': array([0.54541248, 0.55426412, 0.55378691, 0.55196277, 0.54773366,\n",
            "       0.54407083, 0.54221712, 0.55094789, 0.5480202 , 0.54885198,\n",
            "       0.54766282, 0.52401512, 0.52100782, 0.52096373, 0.51852711,\n",
            "       0.51557476, 0.51507124, 0.51146294, 0.52073745, 0.51675662,\n",
            "       0.5151173 , 0.51449705, 0.54782861, 0.55517406, 0.55480741,\n",
            "       0.5516733 , 0.54903965, 0.55729845, 0.55450159, 0.56245335,\n",
            "       0.55937484, 0.55964218, 0.55951187, 0.56998888, 0.57129122,\n",
            "       0.56988426, 0.56734102, 0.5658128 , 0.56345745, 0.56022573,\n",
            "       0.56835755, 0.56673103, 0.56432731, 0.56335375, 0.57405583,\n",
            "       0.57417756, 0.57263841, 0.57308896, 0.57065244, 0.57573919,\n",
            "       0.57265953, 0.580495  , 0.57690844, 0.57470883, 0.57234887,\n",
            "       0.54392512, 0.54293005, 0.54206857, 0.54845762, 0.54483068,\n",
            "       0.54155422, 0.53739056, 0.5460441 , 0.54362474, 0.54424056,\n",
            "       0.54379537, 0.59320511, 0.59001146, 0.58784473, 0.58608701,\n",
            "       0.58564374, 0.58092032, 0.57671336, 0.58405332, 0.58209227,\n",
            "       0.57886651, 0.57853153]), 'split1_test_score': array([0.60739309, 0.60535902, 0.60480578, 0.60957312, 0.60815818,\n",
            "       0.60195563, 0.60048106, 0.60014943, 0.597017  , 0.59639064,\n",
            "       0.59615588, 0.60398143, 0.602459  , 0.60070757, 0.60247482,\n",
            "       0.60189987, 0.5988872 , 0.59858947, 0.59558706, 0.59746073,\n",
            "       0.5984791 , 0.59885847, 0.61110553, 0.60933062, 0.60695131,\n",
            "       0.60613568, 0.60326938, 0.59968113, 0.60154518, 0.6002295 ,\n",
            "       0.59650641, 0.59986322, 0.60063414, 0.60494478, 0.60498561,\n",
            "       0.60609972, 0.60688162, 0.60695359, 0.60548718, 0.60498991,\n",
            "       0.60100163, 0.60216715, 0.59671203, 0.59980124, 0.5816226 ,\n",
            "       0.58292738, 0.58234389, 0.58338493, 0.58185882, 0.58354693,\n",
            "       0.58509449, 0.58368091, 0.58790549, 0.58976783, 0.59005017,\n",
            "       0.61442719, 0.61155899, 0.60859703, 0.60780758, 0.60551001,\n",
            "       0.60731395, 0.60600408, 0.60448388, 0.60447602, 0.60076693,\n",
            "       0.60176872, 0.60586264, 0.60835182, 0.60743346, 0.61290286,\n",
            "       0.61430894, 0.60515492, 0.60569856, 0.60658068, 0.60662784,\n",
            "       0.60718292, 0.60436901]), 'split2_test_score': array([0.45956591, 0.46685835, 0.47100496, 0.46833226, 0.46659979,\n",
            "       0.47089988, 0.45688536, 0.45986422, 0.4602325 , 0.46231716,\n",
            "       0.47151979, 0.51049185, 0.50813734, 0.51865868, 0.52025197,\n",
            "       0.51753831, 0.51215453, 0.50015509, 0.50230483, 0.5057768 ,\n",
            "       0.50700757, 0.50374433, 0.54848139, 0.55722954, 0.56325544,\n",
            "       0.56351902, 0.56614927, 0.56587155, 0.5549654 , 0.55411709,\n",
            "       0.55736467, 0.55840975, 0.55980323, 0.50550005, 0.51721294,\n",
            "       0.52579587, 0.52658374, 0.52887398, 0.52896853, 0.51636262,\n",
            "       0.51657732, 0.51883453, 0.52173479, 0.52242217, 0.53388201,\n",
            "       0.53499013, 0.5444418 , 0.54664443, 0.54837949, 0.55034838,\n",
            "       0.53873599, 0.537355  , 0.5335926 , 0.52686281, 0.52451704,\n",
            "       0.53062276, 0.53457574, 0.5422834 , 0.54171535, 0.54552684,\n",
            "       0.54689785, 0.53698148, 0.53965235, 0.54331714, 0.53773245,\n",
            "       0.53436601, 0.55930356, 0.55989496, 0.56686093, 0.56580371,\n",
            "       0.56431411, 0.56697629, 0.55510033, 0.5547679 , 0.55370046,\n",
            "       0.55632544, 0.56028793]), 'split3_test_score': array([0.47869096, 0.4789756 , 0.46800194, 0.47077095, 0.46086784,\n",
            "       0.4524589 , 0.45573278, 0.45271444, 0.45617355, 0.46423124,\n",
            "       0.45822442, 0.43313358, 0.4361436 , 0.43584343, 0.43903008,\n",
            "       0.4286046 , 0.42391087, 0.42344131, 0.42328524, 0.42367884,\n",
            "       0.42827061, 0.42365302, 0.49449393, 0.49526477, 0.48580902,\n",
            "       0.48697091, 0.48274989, 0.47399703, 0.47790872, 0.47750774,\n",
            "       0.47870417, 0.48095029, 0.47853521, 0.45845314, 0.45606451,\n",
            "       0.4481808 , 0.45029046, 0.44767535, 0.44324428, 0.44725904,\n",
            "       0.44750817, 0.44837702, 0.45320111, 0.44639743, 0.46555691,\n",
            "       0.46730046, 0.45521101, 0.45695506, 0.451888  , 0.44980527,\n",
            "       0.45305276, 0.45359099, 0.45762497, 0.46273503, 0.46613616,\n",
            "       0.43825091, 0.43997236, 0.44568328, 0.44372297, 0.44339192,\n",
            "       0.43767462, 0.43886824, 0.43954456, 0.43614618, 0.43721097,\n",
            "       0.44517659, 0.43701118, 0.43895651, 0.43145457, 0.42908304,\n",
            "       0.43300507, 0.42425585, 0.43107443, 0.43321631, 0.42616712,\n",
            "       0.42943077, 0.42983919]), 'split4_test_score': array([0.46281579, 0.46658854, 0.46437385, 0.46311124, 0.46054631,\n",
            "       0.46578409, 0.46755521, 0.47698042, 0.47616595, 0.47647478,\n",
            "       0.47171827, 0.4995135 , 0.50026299, 0.49734093, 0.49311155,\n",
            "       0.48679035, 0.48400237, 0.48662364, 0.49638028, 0.49463641,\n",
            "       0.49346132, 0.49559385, 0.45727574, 0.45899216, 0.45710242,\n",
            "       0.45517231, 0.45724898, 0.4572223 , 0.46172337, 0.47164876,\n",
            "       0.47633804, 0.47747786, 0.47620804, 0.47367439, 0.47874622,\n",
            "       0.4793176 , 0.47846618, 0.48034562, 0.48165093, 0.48509251,\n",
            "       0.49469421, 0.49172998, 0.49193869, 0.49344487, 0.48811991,\n",
            "       0.49438916, 0.4934698 , 0.49158178, 0.49282013, 0.49464127,\n",
            "       0.49443043, 0.50364277, 0.50175837, 0.50332428, 0.50049402,\n",
            "       0.50337307, 0.50023504, 0.49682163, 0.49835267, 0.49658142,\n",
            "       0.49313117, 0.49529467, 0.50454105, 0.50191741, 0.50386408,\n",
            "       0.50226882, 0.44377668, 0.44506405, 0.44760798, 0.44725724,\n",
            "       0.44685505, 0.44396131, 0.44602098, 0.45599511, 0.45228462,\n",
            "       0.45302582, 0.45580491]), 'mean_test_score': array([0.51077564, 0.51440913, 0.51239469, 0.51275007, 0.50878115,\n",
            "       0.50703386, 0.50457431, 0.50813128, 0.50752184, 0.50965316,\n",
            "       0.50905624, 0.51422709, 0.51360215, 0.51470287, 0.51467911,\n",
            "       0.51008158, 0.50680524, 0.50405449, 0.50765897, 0.50766188,\n",
            "       0.50846718, 0.50726934, 0.53183704, 0.53519823, 0.53358512,\n",
            "       0.53269424, 0.53169143, 0.53081409, 0.53012885, 0.53319129,\n",
            "       0.53365763, 0.53526866, 0.5349385 , 0.52251225, 0.5256601 ,\n",
            "       0.52585565, 0.5259126 , 0.52593226, 0.52456167, 0.52278596,\n",
            "       0.52562778, 0.52556794, 0.52558279, 0.52508389, 0.52864745,\n",
            "       0.53075694, 0.52962098, 0.53033103, 0.52911978, 0.53081621,\n",
            "       0.52879464, 0.53175293, 0.53155797, 0.53147976, 0.53070925,\n",
            "       0.52611981, 0.52585444, 0.52709078, 0.52801124, 0.52716817,\n",
            "       0.52531436, 0.52290781, 0.52685319, 0.5258963 , 0.524763  ,\n",
            "       0.5254751 , 0.52783183, 0.52845576, 0.52824033, 0.52822677,\n",
            "       0.52882538, 0.52425374, 0.52292153, 0.52692266, 0.52417446,\n",
            "       0.52496629, 0.52576651]), 'std_test_score': array([0.05742239, 0.05597093, 0.05699641, 0.0585005 , 0.05965676,\n",
            "       0.05721453, 0.05769789, 0.05774377, 0.05568774, 0.05378585,\n",
            "       0.05378438, 0.05469597, 0.05321279, 0.0528619 , 0.05280509,\n",
            "       0.05603099, 0.05651102, 0.05623037, 0.05509482, 0.05544892,\n",
            "       0.05441538, 0.05582337, 0.05247886, 0.05250156, 0.0544894 ,\n",
            "       0.05441377, 0.05394193, 0.05534807, 0.05237829, 0.0503516 ,\n",
            "       0.04791406, 0.04815039, 0.04933279, 0.05626237, 0.05566066,\n",
            "       0.05757917, 0.05699582, 0.05721163, 0.05750668, 0.05536352,\n",
            "       0.05412674, 0.05424136, 0.05088487, 0.05337965, 0.0458663 ,\n",
            "       0.044664  , 0.04836034, 0.04856876, 0.04931474, 0.05109111,\n",
            "       0.04921455, 0.04899624, 0.04814552, 0.046489  , 0.04555478,\n",
            "       0.05722562, 0.05611594, 0.05411436, 0.05469453, 0.05429633,\n",
            "       0.05686826, 0.05502353, 0.05418351, 0.0555385 , 0.05371462,\n",
            "       0.0514233 , 0.07302958, 0.07228444, 0.07373581, 0.07525346,\n",
            "       0.07442564, 0.07487025, 0.07089522, 0.06956474, 0.07183092,\n",
            "       0.07064088, 0.06964324]), 'rank_test_score': array([63, 58, 62, 61, 67, 74, 76, 69, 72, 65, 66, 59, 60, 56, 57, 64, 75,\n",
            "       77, 71, 70, 68, 73,  8,  2,  5,  7, 10, 14, 18,  6,  4,  1,  3, 55,\n",
            "       40, 37, 35, 34, 49, 54, 41, 43, 42, 46, 23, 15, 19, 17, 20, 13, 22,\n",
            "        9, 11, 12, 16, 33, 38, 30, 27, 29, 45, 53, 32, 36, 48, 44, 28, 24,\n",
            "       25, 26, 21, 50, 52, 31, 51, 47, 39], dtype=int32)}\n"
          ],
          "name": "stdout"
        },
        {
          "output_type": "display_data",
          "data": {
            "image/png": "[encoded data removed]",
            "text/plain": [
              "<Figure size 432x288 with 1 Axes>"
            ]
          },
          "metadata": {
            "tags": []
          }
        },
        {
          "output_type": "stream",
          "text": [
            "the best parameter for max_depth is: 17\n",
            "the best parameter for n_estimators is: 64\n"
          ],
          "name": "stdout"
        }
      ]
    },
    {
      "cell_type": "markdown",
      "metadata": {
        "id": "4hOWiqrAGBT3",
        "colab_type": "text"
      },
      "source": [
        "# Part 4: Model Evaluation"
      ]
    },
    {
      "cell_type": "markdown",
      "metadata": {
        "id": "OTvNuvgHgopJ",
        "colab_type": "text"
      },
      "source": [
        "## 4.1: Evaluate all models"
      ]
    },
    {
      "cell_type": "code",
      "metadata": {
        "id": "K3ln6hSBwwqg",
        "colab_type": "code",
        "outputId": "0ff328b2-f903-4116-fe02-d3e411b9f53d",
        "colab": {
          "base_uri": "https://localhost:8080/",
          "height": 68
        }
      },
      "source": [
        "#For lasso, the optimal alpha is 107.20161850474553\n",
        "from sklearn.linear_model import Lasso\n",
        "from sklearn.metrics import  mean_squared_error\n",
        "lasso=Lasso(alpha=107.20161850474553)\n",
        "lasso.fit(train_x,train_y)\n",
        "pred_y=lasso.predict(test_x)\n",
        "lasso_score=lasso.score(test_x,test_y)\n",
        "MSE_lasso=mean_squared_error(test_y,pred_y)\n",
        "RMSE_lasso=np.sqrt(MSE_lasso)\n",
        "print ('lasso score: ', lasso_score)\n",
        "print ('Mean square error of lasso: ', MSE_lasso)\n",
        "print ('Root mean squared error of lasso:', RMSE_lasso)"
      ],
      "execution_count": 0,
      "outputs": [
        {
          "output_type": "stream",
          "text": [
            "lasso score:  0.2491275911379487\n",
            "Mean square error of lasso:  156220566.67335564\n",
            "Root mean squared error of lasso: 12498.822611484477\n"
          ],
          "name": "stdout"
        }
      ]
    },
    {
      "cell_type": "code",
      "metadata": {
        "id": "kvtx_q52M2ps",
        "colab_type": "code",
        "outputId": "34131db8-fc70-40b9-ab06-934f5f8dad80",
        "colab": {
          "base_uri": "https://localhost:8080/",
          "height": 68
        }
      },
      "source": [
        "#for lasso with polynomial feature alpha is 71.52047328767571\n",
        "from sklearn.preprocessing import PolynomialFeatures\n",
        "poly=PolynomialFeatures(2)\n",
        "train_x_p=poly.fit_transform(train_x)\n",
        "test_x_p=poly.fit_transform(test_x)\n",
        "lasso_p=Lasso(alpha=71.52047328767571)\n",
        "lasso_p.fit(train_x_p,train_y)\n",
        "pred_y=lasso_p.predict(test_x_p)\n",
        "lasso_p_score=lasso.score(test_x,test_y)\n",
        "MSE_lasso_p=mean_squared_error(test_y,pred_y)\n",
        "RMSE_lasso_p=np.sqrt(MSE_lasso_p)\n",
        "print ('lasso_p score: ', lasso_p_score)\n",
        "print ('Mean square error of lasso_p: ', MSE_lasso_p)\n",
        "print ('Root mean squared error of lasso_p:', RMSE_lasso_p)\n"
      ],
      "execution_count": 0,
      "outputs": [
        {
          "output_type": "stream",
          "text": [
            "lasso_p score:  0.2491275911379487\n",
            "Mean square error of lasso_p:  151116998.73637503\n",
            "Root mean squared error of lasso_p: 12292.965416707842\n"
          ],
          "name": "stdout"
        }
      ]
    },
    {
      "cell_type": "code",
      "metadata": {
        "id": "kGt2OK7dPo6V",
        "colab_type": "code",
        "outputId": "287d9b32-16c4-4435-a864-fc42fc827f41",
        "colab": {
          "base_uri": "https://localhost:8080/",
          "height": 68
        }
      },
      "source": [
        "#for ridge,the optimal alpha is 200.453398090524\n",
        "from sklearn.linear_model import Ridge\n",
        "from sklearn.metrics import  mean_squared_error\n",
        "ridge=Ridge(alpha=200.453398090524)\n",
        "ridge.fit(train_x,train_y)\n",
        "pred_y=ridge.predict(test_x)\n",
        "ridge_score=ridge.score(test_x,test_y)\n",
        "MSE_ridge=mean_squared_error(test_y,pred_y)\n",
        "RMSE_ridge=np.sqrt(MSE_ridge)\n",
        "print ('ridge score: ', ridge_score)\n",
        "print ('Mean square error of ridge: ', MSE_ridge)\n",
        "print ('Root mean squared error of ridge:', RMSE_ridge)"
      ],
      "execution_count": 0,
      "outputs": [
        {
          "output_type": "stream",
          "text": [
            "ridge score:  0.25319910482985264\n",
            "Mean square error of ridge:  155373479.7799492\n",
            "Root mean squared error of ridge: 12464.889882383606\n"
          ],
          "name": "stdout"
        }
      ]
    },
    {
      "cell_type": "code",
      "metadata": {
        "id": "NW2jMaRYQXnO",
        "colab_type": "code",
        "outputId": "ec72e9b9-d141-4fc1-f730-45f80cb62fbf",
        "colab": {
          "base_uri": "https://localhost:8080/",
          "height": 68
        }
      },
      "source": [
        "#for lasso with polynomial feature alpha is 14.38449888287663\n",
        "from sklearn.preprocessing import PolynomialFeatures\n",
        "poly=PolynomialFeatures(2)\n",
        "train_x_p=poly.fit_transform(train_x)\n",
        "test_x_p=poly.fit_transform(test_x)\n",
        "ridge_p=Ridge(alpha=14.38449888287663)\n",
        "ridge_p.fit(train_x_p,train_y)\n",
        "pred_y=ridge_p.predict(test_x_p)\n",
        "ridge_p_score=ridge.score(test_x,test_y)\n",
        "MSE_ridge_p=mean_squared_error(test_y,pred_y)\n",
        "RMSE_ridge_p=np.sqrt(MSE_ridge_p)\n",
        "print ('ridge_p score: ', ridge_p_score)\n",
        "print ('Mean square error of ridge_p: ', MSE_ridge_p)\n",
        "print ('Root mean squared error of ridge_p:', RMSE_ridge_p)"
      ],
      "execution_count": 0,
      "outputs": [
        {
          "output_type": "stream",
          "text": [
            "ridge_p score:  0.25319910482985264\n",
            "Mean square error of ridge_p:  161094739.66072002\n",
            "Root mean squared error of ridge_p: 12692.310257030436\n"
          ],
          "name": "stdout"
        }
      ]
    },
    {
      "cell_type": "code",
      "metadata": {
        "id": "uhuoqrdCRcDK",
        "colab_type": "code",
        "outputId": "84432a92-ece7-45cc-fb26-75dd5a2916c4",
        "colab": {
          "base_uri": "https://localhost:8080/",
          "height": 68
        }
      },
      "source": [
        "#For randomforest regression, the optimal n_estimators is 64 , the optimal max_depth is 17\n",
        "from sklearn.ensemble import RandomForestRegressor\n",
        "rf=RandomForestRegressor(n_estimators=64,max_depth=17,max_features='sqrt',random_state=2,n_jobs=-1)\n",
        "rf.fit(train_x,train_y)\n",
        "pred_y=rf.predict(test_x)\n",
        "rf_score=rf.score(test_x,test_y)\n",
        "MSE_rf=mean_squared_error(test_y,pred_y)\n",
        "RMSE_rf=np.sqrt(MSE_rf)\n",
        "print ('rf score: ', rf_score)\n",
        "print ('Mean square error of rf: ', MSE_rf)\n",
        "print ('Root mean squared error of rf:', RMSE_rf)\n"
      ],
      "execution_count": 0,
      "outputs": [
        {
          "output_type": "stream",
          "text": [
            "rf score:  0.5941448620059838\n",
            "Mean square error of rf:  84439005.74373932\n",
            "Root mean squared error of rf: 9189.069906347395\n"
          ],
          "name": "stdout"
        }
      ]
    },
    {
      "cell_type": "markdown",
      "metadata": {
        "id": "KOaL7VjchKND",
        "colab_type": "text"
      },
      "source": [
        "## 4.2 Model comparison "
      ]
    },
    {
      "cell_type": "code",
      "metadata": {
        "id": "4GS6BG2PS2oE",
        "colab_type": "code",
        "outputId": "5900a057-a81b-48ea-fd45-f995ecf09a2c",
        "colab": {
          "base_uri": "https://localhost:8080/",
          "height": 832
        }
      },
      "source": [
        "lst_score = [lasso_score, lasso_p_score, ridge_score, ridge_p_score, rf_score]\n",
        "MSE_lst =  [MSE_lasso, MSE_lasso_p, MSE_ridge, MSE_ridge_p, MSE_rf]\n",
        "RMSE_lst =  [RMSE_lasso, RMSE_lasso_p, RMSE_ridge, RMSE_ridge_p, RMSE_rf]\n",
        "model_lst = ['Lasso_linear','Lasso poly', 'Ridge linear', 'Ridge poly', 'Random forest']\n",
        "\n",
        "plt.figure(1)\n",
        "plt.plot(model_lst, lst_score, 'ro')\n",
        "plt.legend(['r-squre / score'])\n",
        "plt.xlabel('model names',fontsize =16)\n",
        "plt.ylabel('score / r square', fontsize =16)\n",
        "plt.grid(True)\n",
        "plt.show()\n",
        "\n",
        "plt.figure(2)\n",
        "plt.plot(model_lst, MSE_lst, 'g^')\n",
        "plt.legend(['mean square error (MSE)'])\n",
        "plt.xlabel('model names', fontsize =16)\n",
        "plt.ylabel('mean square error', fontsize =16)\n",
        "plt.grid(True)\n",
        "plt.show()\n",
        "\n",
        "plt.figure(3)\n",
        "plt.plot(model_lst, RMSE_lst, 'bs')\n",
        "plt.legend(['root mean square error (RMSE)'])\n",
        "plt.xlabel('model names', fontsize =16)\n",
        "plt.ylabel('root mean square error', fontsize =16)\n",
        "plt.grid(True)\n",
        "plt.show()"
      ],
      "execution_count": 0,
      "outputs": [
        {
          "output_type": "display_data",
          "data": {
            "image/png": "[encoded data removed]",
            "text/plain": [
              "<Figure size 432x288 with 1 Axes>"
            ]
          },
          "metadata": {
            "tags": []
          }
        },
        {
          "output_type": "display_data",
          "data": {
            "image/png": "[encoded data removed]",
            "text/plain": [
              "<Figure size 432x288 with 1 Axes>"
            ]
          },
          "metadata": {
            "tags": []
          }
        },
        {
          "output_type": "display_data",
          "data": {
            "image/png": "[encoded data removed]",
            "text/plain": [
              "<Figure size 432x288 with 1 Axes>"
            ]
          },
          "metadata": {
            "tags": []
          }
        }
      ]
    },
    {
      "cell_type": "markdown",
      "metadata": {
        "id": "ndOUSyTvhb7k",
        "colab_type": "text"
      },
      "source": [
        "## 4.3 Feature importance"
      ]
    },
    {
      "cell_type": "markdown",
      "metadata": {
        "id": "be1mLaDvUOgD",
        "colab_type": "text"
      },
      "source": [
        "According to MSE,RMSE and R square, the Random Forest Regression has the best performance"
      ]
    },
    {
      "cell_type": "code",
      "metadata": {
        "id": "o2AyiWRnVVJj",
        "colab_type": "code",
        "outputId": "4c506a28-f4cc-45f5-ab86-eaa91c793f1c",
        "cellView": "code",
        "colab": {
          "base_uri": "https://localhost:8080/",
          "height": 461
        }
      },
      "source": [
        "importances = rf.feature_importances_\n",
        "feature_name = train_x.columns.get_values()\n",
        "indices = np.argsort(importances)[::-1]\n",
        "plt.figure(1)\n",
        "plt.bar(feature_name[indices[:20]], importances[indices[:20]])\n",
        "plt.xticks(rotation=90)\n",
        "plt.show()"
      ],
      "execution_count": 0,
      "outputs": [
        {
          "output_type": "stream",
          "text": [
            "/usr/local/lib/python3.6/dist-packages/ipykernel_launcher.py:2: FutureWarning: The 'get_values' method is deprecated and will be removed in a future version. Use '.to_numpy()' or '.array' instead.\n",
            "  \n"
          ],
          "name": "stderr"
        },
        {
          "output_type": "display_data",
          "data": {
            "image/png": "[encoded data removed]",
            "text/plain": [
              "<Figure size 432x288 with 1 Axes>"
            ]
          },
          "metadata": {
            "tags": []
          }
        }
      ]
    },
    {
      "cell_type": "code",
      "metadata": {
        "id": "7ocpkrjEGWg-",
        "colab_type": "code",
        "colab": {}
      },
      "source": [
        ""
      ],
      "execution_count": 0,
      "outputs": []
    }
  ]
}